{
  "nbformat": 4,
  "nbformat_minor": 0,
  "metadata": {
    "colab": {
      "name": "week1_satisfaction_analysis.ipynb",
      "provenance": []
    },
    "kernelspec": {
      "name": "python3",
      "display_name": "Python 3"
    },
    "language_info": {
      "name": "python"
    }
  },
  "cells": [
    {
      "cell_type": "markdown",
      "source": [
        "## Imports"
      ],
      "metadata": {
        "id": "MIsU2IuCXOS4"
      }
    },
    {
      "cell_type": "code",
      "source": [
        "import warnings\n",
        "warnings.filterwarnings('ignore')\n",
        "import matplotlib.pyplot as plt\n",
        "import seaborn as sns\n",
        "from wordcloud import STOPWORDS,WordCloud\n",
        "import gensim\n",
        "from gensim.models import CoherenceModel\n",
        "from gensim import corpora\n",
        "import pandas as pd\n",
        "from pprint import pprint\n",
        "import string\n",
        "import os\n",
        "import re\n",
        "import numpy as np \n",
        "import pandas as pd \n",
        "import re\n",
        "import nltk \n",
        "import matplotlib.pyplot as plt\n",
        "import seaborn as sns\n",
        "%matplotlib inline\n",
        "from nltk.corpus import stopwords\n",
        "from sklearn.feature_extraction.text import TfidfVectorizer\n",
        "from sklearn.model_selection import train_test_split\n",
        "from sklearn.ensemble import RandomForestClassifier\n",
        "from sklearn.metrics import accuracy_score\n",
        "from sklearn.tree import DecisionTreeClassifier\n",
        "from sklearn.svm import SVC\n",
        "from sklearn.ensemble import BaggingClassifier\n",
        "from sklearn.datasets import make_multilabel_classification\n",
        "from sklearn.multioutput import MultiOutputClassifier\n",
        "import joblib\n",
        "import seaborn as sns"
      ],
      "metadata": {
        "id": "FroIHUdKq2ne"
      },
      "execution_count": null,
      "outputs": []
    },
    {
      "cell_type": "markdown",
      "source": [
        "### 1. Data Loading"
      ],
      "metadata": {
        "id": "6ubt1XY4q_rA"
      }
    },
    {
      "cell_type": "code",
      "source": [
        "class DataLoader:\n",
        "  def __init__(self,dir_name,file_name):\n",
        "    self.dir_name = dir_name\n",
        "    self.file_name = file_name\n",
        "    \n",
        " \n",
        "  def read_csv(self):\n",
        "    os.chdir(self.dir_name)\n",
        "    tweets_df=pd.read_csv(self.file_name)\n",
        "    return tweets_df\n",
        "\n",
        "data_loader_object = DataLoader('/content/drive/MyDrive/', 'Week1_challenge_data_source(CSV).csv')\n",
        "raw_data = data_loader_object.read_csv()"
      ],
      "metadata": {
        "id": "UXy8CUTUrA8B"
      },
      "execution_count": null,
      "outputs": []
    },
    {
      "cell_type": "markdown",
      "source": [
        "##### Task 4. 1 - Write a python program to assign:\n",
        "1. engagement score to each user. Consider the engagement score as the Euclidean distance between the user data point & the less engaged cluster (use the first clustering for this) (Euclidean Distance)\n",
        "2. experience score to each user. Consider the experience score as the Euclidean distance between the user data point & the worst experience’s cluster. \n"
      ],
      "metadata": {
        "id": "RpL_oL6o0mcv"
      }
    },
    {
      "cell_type": "markdown",
      "source": [
        "###### Engagment score"
      ],
      "metadata": {
        "id": "JK2u8yjp1SOS"
      }
    },
    {
      "cell_type": "code",
      "source": [
        "# 1 - First get the engagment centroids and the given data\n",
        "engagement_centroids = pd.read_csv(\"engagment_centroids.csv\")\n",
        "engagement_data = pd.read_csv(\"engagment_data.csv\")"
      ],
      "metadata": {
        "id": "OsJpQk550xz1"
      },
      "execution_count": null,
      "outputs": []
    },
    {
      "cell_type": "code",
      "source": [
        "# the first clusture is least engeged, so we will take that centroid as refrence\n",
        "ref_centroid_eng = engagement_centroids[:1].to_numpy()"
      ],
      "metadata": {
        "id": "PyNjmpBN1PP4"
      },
      "execution_count": null,
      "outputs": []
    },
    {
      "cell_type": "code",
      "source": [
        "# Calculate the euclidean distance as an engagement score\n",
        "from sklearn.metrics.pairwise import euclidean_distances\n",
        "enagement_score = euclidean_distances(engagement_data.to_numpy(), ref_centroid_eng)"
      ],
      "metadata": {
        "id": "yu19A5dQ1r9L"
      },
      "execution_count": null,
      "outputs": []
    },
    {
      "cell_type": "markdown",
      "source": [
        "###### Experience Score"
      ],
      "metadata": {
        "id": "OghGqAwg4VnX"
      }
    },
    {
      "cell_type": "code",
      "source": [
        "# 1 - First get the experience centroids and the given data\n",
        "experience_centroids = pd.read_csv(\"experience_centriods.csv\")\n",
        "experience_data = pd.read_csv(\"experience_data.csv\")"
      ],
      "metadata": {
        "id": "h-yGxw134ZZ2"
      },
      "execution_count": null,
      "outputs": []
    },
    {
      "cell_type": "code",
      "source": [
        "# the first clusture is least experienced, so we will take that centroid as refrence\n",
        "ref_centroid_exp = experience_centroids[:1].to_numpy()"
      ],
      "metadata": {
        "id": "ay69CGZb4bu0"
      },
      "execution_count": null,
      "outputs": []
    },
    {
      "cell_type": "code",
      "source": [
        "# Calculate the euclidean distance as an engagement score\n",
        "from sklearn.metrics.pairwise import euclidean_distances\n",
        "experience_score = euclidean_distances(experience_data.to_numpy(), ref_centroid_exp) "
      ],
      "metadata": {
        "id": "5ce4uYKS4g7x"
      },
      "execution_count": null,
      "outputs": []
    },
    {
      "cell_type": "code",
      "source": [
        "enagement_score"
      ],
      "metadata": {
        "colab": {
          "base_uri": "https://localhost:8080/"
        },
        "id": "u8zyezl7A9Vv",
        "outputId": "5293abb2-3091-45f3-d2d2-31119c148cde"
      },
      "execution_count": null,
      "outputs": [
        {
          "output_type": "execute_result",
          "data": {
            "text/plain": [
              "array([[0.0834707 ],\n",
              "       [0.03914338],\n",
              "       [0.03593144],\n",
              "       ...,\n",
              "       [0.026841  ],\n",
              "       [0.03935664],\n",
              "       [0.04986459]])"
            ]
          },
          "metadata": {},
          "execution_count": 114
        }
      ]
    },
    {
      "cell_type": "markdown",
      "source": [
        "##### Task 4.2 - Consider the average of both engagement & experience scores as  the satisfaction score & report the top 10 satisfied customer \n"
      ],
      "metadata": {
        "id": "vkvBSFBF5Tp_"
      }
    },
    {
      "cell_type": "code",
      "source": [
        "sat_sc = np.mean( np.array([ experience_score, enagement_score]), axis=0 )"
      ],
      "metadata": {
        "id": "CpJ9qWsC5WHP"
      },
      "execution_count": null,
      "outputs": []
    },
    {
      "cell_type": "code",
      "source": [
        "final_data = pd.DataFrame(sat_sc, columns=[\"Satisfaction Score\"])"
      ],
      "metadata": {
        "id": "2U4-IxkJ8SmJ"
      },
      "execution_count": null,
      "outputs": []
    },
    {
      "cell_type": "code",
      "source": [
        "final_data.nlargest(n=10, columns=[\"Satisfaction Score\"])[\"Satisfaction Score\"]"
      ],
      "metadata": {
        "id": "CKvDLkXD8fxk"
      },
      "execution_count": null,
      "outputs": []
    },
    {
      "cell_type": "code",
      "source": [
        "final_columns = [\"MSISDN/Number\", \"Average RTT\", \"Average TCP retransmission\", \n",
        "                 \"Average throughput\", \"Frequency\", \"DL Duration\", \"UL Duration\",\n",
        "                 \"Sessions Total UL\", \"Sessions Total\", \"Satisfaction Score\"]\n",
        "Final_Data = pd.DataFrame(columns=final_columns)"
      ],
      "metadata": {
        "id": "srt_flkTEma9"
      },
      "execution_count": null,
      "outputs": []
    },
    {
      "cell_type": "code",
      "source": [
        "Final_Data[\"MSISDN/Number\"] = raw_data.groupby(\"MSISDN/Number\").agg({\"Bearer Id\": \"count\"}).reset_index()[\"MSISDN/Number\"]\n",
        "Final_Data[\"Average RTT\"] = experience_data[\"0\"]\n",
        "Final_Data[\"Average TCP retransmission\"] = experience_data[\"1\"]\n",
        "Final_Data[\"Average throughput\"] = experience_data[\"2\"]\n",
        "Final_Data[\"Frequency\"] = engagement_data[\"0\"]\n",
        "Final_Data[\"DL Duration\"] = engagement_data[\"1\"]\n",
        "Final_Data[\"UL Duration\"] = engagement_data[\"2\"]\n",
        "Final_Data[\"Sessions Total UL\"] = engagement_data[\"3\"]\n",
        "Final_Data[\"Sessions Total\"] = engagement_data[\"4\"]\n",
        "Final_Data[\"Satisfaction Score\"] = final_data[\"Satisfaction Score\"]\n"
      ],
      "metadata": {
        "id": "HyMthTO4G6Cf"
      },
      "execution_count": null,
      "outputs": []
    },
    {
      "cell_type": "code",
      "source": [],
      "metadata": {
        "id": "LXiHgLt6Kow0"
      },
      "execution_count": null,
      "outputs": []
    },
    {
      "cell_type": "markdown",
      "source": [
        "##### Task 4.3 - Build a regression model of your choice to predict the satisfaction score of a customer. "
      ],
      "metadata": {
        "id": "k5dQwE0KI_dm"
      }
    },
    {
      "cell_type": "code",
      "source": [
        "Final_Data.drop([\"Satisfaction Score\"], axis=1)"
      ],
      "metadata": {
        "id": "EAvAv_vILThj"
      },
      "execution_count": null,
      "outputs": []
    },
    {
      "cell_type": "code",
      "source": [
        "x = Final_Data.drop([\"MSISDN/Number\", \"Satisfaction Score\"], axis=1)\n",
        "y = Final_Data[\"Satisfaction Score\"]"
      ],
      "metadata": {
        "id": "ujBeFkIHLAut"
      },
      "execution_count": null,
      "outputs": []
    },
    {
      "cell_type": "code",
      "source": [
        "x_train, x_test, y_train, y_test = train_test_split(x, y, test_size=0.2, random_state=42)"
      ],
      "metadata": {
        "id": "2caImXNHKRqj"
      },
      "execution_count": null,
      "outputs": []
    },
    {
      "cell_type": "code",
      "source": [
        "from sklearn.svm import SVR\n",
        "\n",
        "svm_poly_reg = SVR(kernel=\"poly\", degree=4, C=100, epsilon=0.1, gamma=\"scale\")\n",
        "svm_poly_reg.fit(x_train, y_train)"
      ],
      "metadata": {
        "colab": {
          "base_uri": "https://localhost:8080/"
        },
        "id": "OmWz6976JA5_",
        "outputId": "e252f1c0-7991-4d1e-8cf8-b40e9c078a79"
      },
      "execution_count": null,
      "outputs": [
        {
          "output_type": "execute_result",
          "data": {
            "text/plain": [
              "SVR(C=100, degree=4, kernel='poly')"
            ]
          },
          "metadata": {},
          "execution_count": 149
        }
      ]
    },
    {
      "cell_type": "code",
      "source": [
        "from sklearn.metrics import mean_squared_error\n",
        "\n",
        "y_pred = svm_poly_reg.predict(x_train)\n",
        "mse = mean_squared_error(y_train, y_pred)\n",
        "mse"
      ],
      "metadata": {
        "colab": {
          "base_uri": "https://localhost:8080/"
        },
        "id": "qQziH7NOMJff",
        "outputId": "7ecc9478-f7ab-449d-e8bb-13c9d40d1c99"
      },
      "execution_count": null,
      "outputs": [
        {
          "output_type": "execute_result",
          "data": {
            "text/plain": [
              "0.003953587781627983"
            ]
          },
          "metadata": {},
          "execution_count": 150
        }
      ]
    },
    {
      "cell_type": "markdown",
      "source": [
        "#####  Run a k-means (k=2) on the engagement & the experience score ."
      ],
      "metadata": {
        "id": "FhZKWtZoxYN_"
      }
    },
    {
      "cell_type": "code",
      "source": [
        "from sklearn.preprocessing import MinMaxScaler\n",
        "def normalizer(df):\n",
        "  norm = MinMaxScaler()\n",
        "  # normalize the exponential data with boxcox\n",
        "  normalized_data = norm.fit_transform(df)\n",
        "  return normalized_data\n",
        "\n",
        "engament_list = [score[0] for score in enagement_score]\n",
        "experience_list = [score[0] for score in experience_score]\n",
        "\n",
        "en_ex_score = pd.DataFrame()"
      ],
      "metadata": {
        "id": "Q9TMNzvWxZr0"
      },
      "execution_count": 159,
      "outputs": []
    },
    {
      "cell_type": "code",
      "source": [
        "en_ex_score[\"engagement score\"] = engament_list\n",
        "en_ex_score[\"experience score\"] = experience_list\n",
        "\n",
        "en_ex_norm = normalizer(en_ex_score)"
      ],
      "metadata": {
        "id": "ojQWrH-C0yyV"
      },
      "execution_count": 163,
      "outputs": []
    },
    {
      "cell_type": "code",
      "source": [
        "from sklearn.cluster import KMeans\n",
        "k = 3\n",
        "kmeans = KMeans(n_clusters=k, random_state=42)\n",
        "y_pred = kmeans.fit_predict(en_ex_norm)"
      ],
      "metadata": {
        "id": "AteASFlHxsIF"
      },
      "execution_count": 164,
      "outputs": []
    },
    {
      "cell_type": "code",
      "source": [
        "en_ex_score[\"cluster\"] = y_pred"
      ],
      "metadata": {
        "id": "ktR0XbGA1ZlX"
      },
      "execution_count": 165,
      "outputs": []
    },
    {
      "cell_type": "code",
      "source": [
        "en_ex_score = en_ex_score.sort_values(by=[\"cluster\"])"
      ],
      "metadata": {
        "id": "0oFOHPH02Otw"
      },
      "execution_count": 168,
      "outputs": []
    },
    {
      "cell_type": "markdown",
      "source": [
        "##### Task 4.6 - Export your final table containing all user id + engagement, experience & satisfaction scores in your local MySQL database. Report a screenshot of a select query output on the exported table. \n"
      ],
      "metadata": {
        "id": "W7GKhKGp2wG5"
      }
    },
    {
      "cell_type": "code",
      "source": [
        "saved_data = pd.DataFrame(columns=[\"ID\", \"Engagement Score\", \n",
        "                                   \"Experience Score\", \"Satisfaction Score\"])\n",
        "saved_data[\"ID\"] = Final_Data[\"MSISDN/Number\"]\n",
        "saved_data[\"Engagement Score\"] = engament_list\n",
        "saved_data[\"Experience Score\"] = experience_list\n",
        "saved_data[\"Satisfaction Score\"] = Final_Data[\"Satisfaction Score\"]\n"
      ],
      "metadata": {
        "id": "bzrJkI6N2x6r"
      },
      "execution_count": 169,
      "outputs": []
    },
    {
      "cell_type": "code",
      "source": [
        "saved_data.to_csv(\"final_data.csv\", index=False)"
      ],
      "metadata": {
        "id": "P1Q9rdAI3-9H"
      },
      "execution_count": 170,
      "outputs": []
    }
  ]
}