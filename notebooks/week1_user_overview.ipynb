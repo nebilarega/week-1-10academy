{
  "nbformat": 4,
  "nbformat_minor": 0,
  "metadata": {
    "colab": {
      "name": "week1_user_overview.ipynb",
      "provenance": [],
      "collapsed_sections": [],
      "toc_visible": true
    },
    "kernelspec": {
      "name": "python3",
      "display_name": "Python 3"
    },
    "language_info": {
      "name": "python"
    }
  },
  "cells": [
    {
      "cell_type": "markdown",
      "source": [
        "## Imports"
      ],
      "metadata": {
        "id": "CLQHg-4GVjLh"
      }
    },
    {
      "cell_type": "code",
      "source": [
        "from google.colab import drive\n",
        "drive.mount('/content/drive')"
      ],
      "metadata": {
        "id": "KM4OwFK9TU1m"
      },
      "execution_count": null,
      "outputs": []
    },
    {
      "cell_type": "code",
      "source": [
        "import warnings\n",
        "warnings.filterwarnings('ignore')\n",
        "import matplotlib.pyplot as plt\n",
        "import seaborn as sns\n",
        "from wordcloud import STOPWORDS,WordCloud\n",
        "import gensim\n",
        "from gensim.models import CoherenceModel\n",
        "from gensim import corpora\n",
        "import pandas as pd\n",
        "from pprint import pprint\n",
        "import string\n",
        "import os\n",
        "import re\n",
        "import numpy as np \n",
        "import pandas as pd \n",
        "import re\n",
        "import nltk \n",
        "import matplotlib.pyplot as plt\n",
        "import seaborn as sns\n",
        "%matplotlib inline\n",
        "from nltk.corpus import stopwords\n",
        "from sklearn.feature_extraction.text import TfidfVectorizer\n",
        "from sklearn.model_selection import train_test_split\n",
        "from sklearn.ensemble import RandomForestClassifier\n",
        "from sklearn.metrics import accuracy_score\n",
        "from sklearn.tree import DecisionTreeClassifier\n",
        "from sklearn.svm import SVC\n",
        "from sklearn.ensemble import BaggingClassifier\n",
        "from sklearn.datasets import make_multilabel_classification\n",
        "from sklearn.multioutput import MultiOutputClassifier\n",
        "import joblib\n",
        "import seaborn as sns"
      ],
      "metadata": {
        "id": "uJDWClKoVceA"
      },
      "execution_count": null,
      "outputs": []
    },
    {
      "cell_type": "code",
      "source": [
        "pd.set_option('display.max_columns', None) ## so that full columns are visible"
      ],
      "metadata": {
        "id": "NrVbfWpri8_-"
      },
      "execution_count": null,
      "outputs": []
    },
    {
      "cell_type": "markdown",
      "source": [
        "## Helper Functions"
      ],
      "metadata": {
        "id": "fybN5ICpqv1A"
      }
    },
    {
      "cell_type": "code",
      "source": [
        "def format_float(value):\n",
        "    return f'{value:,.2f}'\n",
        "\n",
        "def find_agg(df:pd.DataFrame, agg_column:str, agg_metric:str, col_name:str, top:int, order=False )->pd.DataFrame:\n",
        "    \n",
        "    new_df = df.groupby(agg_column)[agg_column].agg(agg_metric).reset_index(name=col_name).\\\n",
        "                        sort_values(by=col_name, ascending=order)[:top]\n",
        "    \n",
        "    return new_df\n",
        "\n",
        "def convert_bytes_to_megabytes(df, bytes_data):\n",
        "    \"\"\"\n",
        "        This function takes the dataframe and the column which has the bytes values\n",
        "        returns the megabytesof that value\n",
        "        \n",
        "        Args:\n",
        "        -----\n",
        "        df: dataframe\n",
        "        bytes_data: column with bytes values\n",
        "        \n",
        "        Returns:\n",
        "        --------\n",
        "        A series\n",
        "    \"\"\"\n",
        "    \n",
        "    megabyte = 1*10e+5\n",
        "    df[bytes_data] = df[bytes_data] / megabyte\n",
        "    return df[bytes_data]\n",
        "\n",
        "def fix_outlier(df, column):\n",
        "    df[column] = np.where(df[column] > df[column].quantile(0.95), df[column].median(),df[column])\n",
        "    \n",
        "    return df[column]\n",
        "\n",
        "def plot_hist(df:pd.DataFrame, column:str, color:str)->None:\n",
        "    # plt.figure(figsize=(15, 10))\n",
        "    # fig, ax = plt.subplots(1, figsize=(12, 7))\n",
        "    sns.displot(data=df, x=column, color=color, kde=True, height=7, aspect=2)\n",
        "    plt.title(f'Distribution of {column}', size=20, fontweight='bold')\n",
        "    plt.show()\n",
        "\n",
        "def plot_count(df:pd.DataFrame, column:str) -> None:\n",
        "    plt.figure(figsize=(12, 7))\n",
        "    sns.countplot(data=df, x=column)\n",
        "    plt.title(f'Distribution of {column}', size=20, fontweight='bold')\n",
        "    plt.show()\n",
        "    \n",
        "def plot_bar(df:pd.DataFrame, x_col:str, y_col:str, title:str, xlabel:str, ylabel:str)->None:\n",
        "    plt.figure(figsize=(12, 7))\n",
        "    sns.barplot(data = df, x=x_col, y=y_col)\n",
        "    plt.title(title, size=20)\n",
        "    plt.xticks(rotation=75, fontsize=14)\n",
        "    plt.yticks( fontsize=14)\n",
        "    plt.xlabel(xlabel, fontsize=16)\n",
        "    plt.ylabel(ylabel, fontsize=16)\n",
        "    plt.show()\n",
        "\n",
        "def plot_heatmap(df:pd.DataFrame, title:str, cbar=False)->None:\n",
        "    plt.figure(figsize=(12, 7))\n",
        "    sns.heatmap(df, annot=True, cmap='viridis', vmin=0, vmax=1, fmt='.2f', linewidths=.7, cbar=cbar )\n",
        "    plt.title(title, size=18, fontweight='bold')\n",
        "    plt.show()\n",
        "\n",
        "def plot_box(df:pd.DataFrame, x_col:str, title:str) -> None:\n",
        "    plt.figure(figsize=(12, 7))\n",
        "    sns.boxplot(data = df, x=x_col)\n",
        "    plt.title(title, size=20)\n",
        "    plt.xticks(rotation=75, fontsize=14)\n",
        "    plt.show()\n",
        "\n",
        "def plot_box_multi(df:pd.DataFrame, x_col:str, y_col:str, title:str) -> None:\n",
        "    plt.figure(figsize=(12, 7))\n",
        "    sns.boxplot(data = df, x=x_col, y=y_col)\n",
        "    plt.title(title, size=20)\n",
        "    plt.xticks(rotation=75, fontsize=14)\n",
        "    plt.yticks( fontsize=14)\n",
        "    plt.show()\n",
        "\n",
        "def plot_scatter(df: pd.DataFrame, x_col: str, y_col: str, title: str, hue: str, style: str) -> None:\n",
        "    plt.figure(figsize=(12, 7))\n",
        "    sns.scatterplot(data = df, x=x_col, y=y_col, hue=hue, style=style)\n",
        "    plt.title(title, size=20)\n",
        "    plt.xticks(fontsize=14)\n",
        "    plt.yticks( fontsize=14)\n",
        "    plt.show()\n",
        "\n",
        "\n",
        "pd.options.display.float_format = format_float"
      ],
      "metadata": {
        "id": "mbb0EmQdqz9O"
      },
      "execution_count": null,
      "outputs": []
    },
    {
      "cell_type": "markdown",
      "source": [
        "## Procedures \n",
        "1. Data loading\n",
        "2. Data Cleaning\n",
        "3. Data transforming\n",
        "4. Data Extraction\n",
        "5. EDA"
      ],
      "metadata": {
        "id": "Ar1YMo5_ULez"
      }
    },
    {
      "cell_type": "markdown",
      "source": [
        "### 1. Data Loading"
      ],
      "metadata": {
        "id": "Kw24VWwUVrfX"
      }
    },
    {
      "cell_type": "code",
      "source": [
        "class DataLoader:\n",
        "  def __init__(self,dir_name,file_name):\n",
        "    self.dir_name = dir_name\n",
        "    self.file_name = file_name\n",
        "    \n",
        " \n",
        "  def read_csv(self):\n",
        "    os.chdir(self.dir_name)\n",
        "    tweets_df=pd.read_csv(self.file_name)\n",
        "    return tweets_df\n",
        "\n",
        "data_loader_object = DataLoader('/content/drive/MyDrive/', 'Week1_challenge_data_source(CSV).csv')\n",
        "raw_data = data_loader_object.read_csv()"
      ],
      "metadata": {
        "id": "fdyomUHNVHWV"
      },
      "execution_count": null,
      "outputs": []
    },
    {
      "cell_type": "markdown",
      "source": [
        "### 2. Data Cleaning"
      ],
      "metadata": {
        "id": "SCqr986Kr4sT"
      }
    },
    {
      "cell_type": "code",
      "source": [
        "# Looking at the data\n",
        "intermidate = raw_data.dropna()"
      ],
      "metadata": {
        "id": "eHagaTG4a6Qt"
      },
      "execution_count": null,
      "outputs": []
    },
    {
      "cell_type": "code",
      "source": [
        "raw_data.columns.tolist().index(\"Handset Type\")"
      ],
      "metadata": {
        "colab": {
          "base_uri": "https://localhost:8080/"
        },
        "id": "uCB7gIp3Omav",
        "outputId": "22e9a464-2fa3-4905-91b2-b78237654168"
      },
      "execution_count": null,
      "outputs": [
        {
          "output_type": "execute_result",
          "data": {
            "text/plain": [
              "30"
            ]
          },
          "metadata": {},
          "execution_count": 56
        }
      ]
    },
    {
      "cell_type": "code",
      "source": [
        "raw_data.columns.tolist().index(\"Social Media DL (Bytes)\")"
      ],
      "metadata": {
        "colab": {
          "base_uri": "https://localhost:8080/"
        },
        "id": "nDExMk6qPAXV",
        "outputId": "4533615a-fa7b-4411-a286-9f17028a51bb"
      },
      "execution_count": null,
      "outputs": [
        {
          "output_type": "execute_result",
          "data": {
            "text/plain": [
              "39"
            ]
          },
          "metadata": {},
          "execution_count": 58
        }
      ]
    },
    {
      "cell_type": "code",
      "source": [
        "columns = raw_data.columns.tolist()\n",
        "columns = columns[columns.index(\"Handset Type\")+1:columns.index(\"Social Media DL (Bytes)\")]"
      ],
      "metadata": {
        "id": "dlzMe9uWP6XL"
      },
      "execution_count": null,
      "outputs": []
    },
    {
      "cell_type": "code",
      "source": [
        "columns.append(\"Activity Duration DL (ms)\")\n",
        "columns.append(\"Activity Duration UL (ms)\")"
      ],
      "metadata": {
        "id": "zsb3DzZSQQ4j"
      },
      "execution_count": null,
      "outputs": []
    },
    {
      "cell_type": "code",
      "source": [
        "new_data = raw_data[columns]"
      ],
      "metadata": {
        "id": "4fdR4hGvQcji"
      },
      "execution_count": null,
      "outputs": []
    },
    {
      "cell_type": "code",
      "source": [
        "new_new_data = new_data.dropna()"
      ],
      "metadata": {
        "id": "BsOvVDIGQluu"
      },
      "execution_count": null,
      "outputs": []
    },
    {
      "cell_type": "code",
      "source": [
        "new_new_data.shape"
      ],
      "metadata": {
        "colab": {
          "base_uri": "https://localhost:8080/"
        },
        "id": "mTrgVOgBQxWS",
        "outputId": "79fe1733-d29e-43e1-fd55-781fad31e956"
      },
      "execution_count": null,
      "outputs": [
        {
          "output_type": "execute_result",
          "data": {
            "text/plain": [
              "(18498, 10)"
            ]
          },
          "metadata": {},
          "execution_count": 69
        }
      ]
    },
    {
      "cell_type": "code",
      "source": [
        "columns"
      ],
      "metadata": {
        "colab": {
          "base_uri": "https://localhost:8080/"
        },
        "id": "AHGRsfq0PkvN",
        "outputId": "9aeb3920-d392-4655-84de-fb4905ff7fd6"
      },
      "execution_count": null,
      "outputs": [
        {
          "output_type": "execute_result",
          "data": {
            "text/plain": [
              "['Nb of sec with 125000B < Vol DL',\n",
              " 'Nb of sec with 1250B < Vol UL < 6250B',\n",
              " 'Nb of sec with 31250B < Vol DL < 125000B',\n",
              " 'Nb of sec with 37500B < Vol UL',\n",
              " 'Nb of sec with 6250B < Vol DL < 31250B',\n",
              " 'Nb of sec with 6250B < Vol UL < 37500B',\n",
              " 'Nb of sec with Vol DL < 6250B',\n",
              " 'Nb of sec with Vol UL < 1250B',\n",
              " 'Activity Duration DL (ms)',\n",
              " 'Activity Duration UL (ms)']"
            ]
          },
          "metadata": {},
          "execution_count": 70
        }
      ]
    },
    {
      "cell_type": "code",
      "source": [
        "raw_data.columns"
      ],
      "metadata": {
        "colab": {
          "base_uri": "https://localhost:8080/"
        },
        "id": "0soFXMgKOi-e",
        "outputId": "82767ab4-1161-4032-add1-01659d41ad28"
      },
      "execution_count": null,
      "outputs": [
        {
          "output_type": "execute_result",
          "data": {
            "text/plain": [
              "Index(['Bearer Id', 'Start', 'Start ms', 'End', 'End ms', 'Dur. (ms)', 'IMSI',\n",
              "       'MSISDN/Number', 'IMEI', 'Last Location Name', 'Avg RTT DL (ms)',\n",
              "       'Avg RTT UL (ms)', 'Avg Bearer TP DL (kbps)', 'Avg Bearer TP UL (kbps)',\n",
              "       'TCP DL Retrans. Vol (Bytes)', 'TCP UL Retrans. Vol (Bytes)',\n",
              "       'DL TP < 50 Kbps (%)', '50 Kbps < DL TP < 250 Kbps (%)',\n",
              "       '250 Kbps < DL TP < 1 Mbps (%)', 'DL TP > 1 Mbps (%)',\n",
              "       'UL TP < 10 Kbps (%)', '10 Kbps < UL TP < 50 Kbps (%)',\n",
              "       '50 Kbps < UL TP < 300 Kbps (%)', 'UL TP > 300 Kbps (%)',\n",
              "       'HTTP DL (Bytes)', 'HTTP UL (Bytes)', 'Activity Duration DL (ms)',\n",
              "       'Activity Duration UL (ms)', 'Dur. (ms).1', 'Handset Manufacturer',\n",
              "       'Handset Type', 'Nb of sec with 125000B < Vol DL',\n",
              "       'Nb of sec with 1250B < Vol UL < 6250B',\n",
              "       'Nb of sec with 31250B < Vol DL < 125000B',\n",
              "       'Nb of sec with 37500B < Vol UL',\n",
              "       'Nb of sec with 6250B < Vol DL < 31250B',\n",
              "       'Nb of sec with 6250B < Vol UL < 37500B',\n",
              "       'Nb of sec with Vol DL < 6250B', 'Nb of sec with Vol UL < 1250B',\n",
              "       'Social Media DL (Bytes)', 'Social Media UL (Bytes)',\n",
              "       'Google DL (Bytes)', 'Google UL (Bytes)', 'Email DL (Bytes)',\n",
              "       'Email UL (Bytes)', 'Youtube DL (Bytes)', 'Youtube UL (Bytes)',\n",
              "       'Netflix DL (Bytes)', 'Netflix UL (Bytes)', 'Gaming DL (Bytes)',\n",
              "       'Gaming UL (Bytes)', 'Other DL (Bytes)', 'Other UL (Bytes)',\n",
              "       'Total UL (Bytes)', 'Total DL (Bytes)'],\n",
              "      dtype='object')"
            ]
          },
          "metadata": {},
          "execution_count": 71
        }
      ]
    },
    {
      "cell_type": "code",
      "source": [
        "raw_data[\"DL TP > 1 Mbps (%)\"][raw_data[\"DL TP > 1 Mbps (%)\"] > 70].shape[0]"
      ],
      "metadata": {
        "colab": {
          "base_uri": "https://localhost:8080/"
        },
        "id": "GOLA045PZXeQ",
        "outputId": "abc8ce4e-23ba-48b6-d5d7-6337216c7a15"
      },
      "execution_count": null,
      "outputs": [
        {
          "output_type": "execute_result",
          "data": {
            "text/plain": [
              "21"
            ]
          },
          "metadata": {},
          "execution_count": 48
        }
      ]
    },
    {
      "cell_type": "code",
      "source": [
        "print(\"Raws =\", raw_data.shape[0], \"   Columns\", raw_data.shape[1])"
      ],
      "metadata": {
        "colab": {
          "base_uri": "https://localhost:8080/"
        },
        "id": "BQhOb4TOYSN6",
        "outputId": "d0b40cee-96b9-4be3-947e-7c49ba137e7c"
      },
      "execution_count": null,
      "outputs": [
        {
          "output_type": "stream",
          "name": "stdout",
          "text": [
            "Raws = 150001    Columns 55\n"
          ]
        }
      ]
    },
    {
      "cell_type": "code",
      "source": [
        "print(raw_data.columns)\n",
        "print(\"column size\", raw_data.columns.size)"
      ],
      "metadata": {
        "id": "bKX8fKVUYgJb",
        "colab": {
          "base_uri": "https://localhost:8080/"
        },
        "outputId": "256f11fd-7f6e-4f0b-cf05-ea7a219022a6"
      },
      "execution_count": null,
      "outputs": [
        {
          "output_type": "stream",
          "name": "stdout",
          "text": [
            "Index(['Bearer Id', 'Start', 'Start ms', 'End', 'End ms', 'Dur. (ms)', 'IMSI',\n",
            "       'MSISDN/Number', 'IMEI', 'Last Location Name', 'Avg RTT DL (ms)',\n",
            "       'Avg RTT UL (ms)', 'Avg Bearer TP DL (kbps)', 'Avg Bearer TP UL (kbps)',\n",
            "       'TCP DL Retrans. Vol (Bytes)', 'TCP UL Retrans. Vol (Bytes)',\n",
            "       'DL TP < 50 Kbps (%)', '50 Kbps < DL TP < 250 Kbps (%)',\n",
            "       '250 Kbps < DL TP < 1 Mbps (%)', 'DL TP > 1 Mbps (%)',\n",
            "       'UL TP < 10 Kbps (%)', '10 Kbps < UL TP < 50 Kbps (%)',\n",
            "       '50 Kbps < UL TP < 300 Kbps (%)', 'UL TP > 300 Kbps (%)',\n",
            "       'HTTP DL (Bytes)', 'HTTP UL (Bytes)', 'Activity Duration DL (ms)',\n",
            "       'Activity Duration UL (ms)', 'Dur. (ms).1', 'Handset Manufacturer',\n",
            "       'Handset Type', 'Nb of sec with 125000B < Vol DL',\n",
            "       'Nb of sec with 1250B < Vol UL < 6250B',\n",
            "       'Nb of sec with 31250B < Vol DL < 125000B',\n",
            "       'Nb of sec with 37500B < Vol UL',\n",
            "       'Nb of sec with 6250B < Vol DL < 31250B',\n",
            "       'Nb of sec with 6250B < Vol UL < 37500B',\n",
            "       'Nb of sec with Vol DL < 6250B', 'Nb of sec with Vol UL < 1250B',\n",
            "       'Social Media DL (Bytes)', 'Social Media UL (Bytes)',\n",
            "       'Google DL (Bytes)', 'Google UL (Bytes)', 'Email DL (Bytes)',\n",
            "       'Email UL (Bytes)', 'Youtube DL (Bytes)', 'Youtube UL (Bytes)',\n",
            "       'Netflix DL (Bytes)', 'Netflix UL (Bytes)', 'Gaming DL (Bytes)',\n",
            "       'Gaming UL (Bytes)', 'Other DL (Bytes)', 'Other UL (Bytes)',\n",
            "       'Total UL (Bytes)', 'Total DL (Bytes)'],\n",
            "      dtype='object')\n",
            "column size 55\n"
          ]
        }
      ]
    },
    {
      "cell_type": "code",
      "source": [
        "def percentage_missing(df):\n",
        "  # Calculate total number of cells in dataframe\n",
        "    totalCells = np.product(df.shape)\n",
        "\n",
        "    # Count number of missing values per column\n",
        "    missingCount = df.isna().sum()\n",
        "\n",
        "    # Calculate total number of missing values\n",
        "    totalMissing = missingCount.sum()\n",
        "\n",
        "    # Calculate percentage of missing values\n",
        "    print(\"The dataset is\", round(((totalMissing/totalCells) * 100), 2), \"%\", \"missing values.\")\n",
        "\n",
        "percentage_missing(raw_data)"
      ],
      "metadata": {
        "colab": {
          "base_uri": "https://localhost:8080/"
        },
        "id": "qz9WMii4ZQmY",
        "outputId": "078b703a-8dc5-4b81-e90d-fd054b0fe92a"
      },
      "execution_count": null,
      "outputs": [
        {
          "output_type": "stream",
          "name": "stdout",
          "text": [
            "The dataset is 12.5 % missing values.\n"
          ]
        }
      ]
    },
    {
      "cell_type": "code",
      "source": [
        "## About 12.5 is missing values, lets look at the columns with each count missing values\n",
        "def columns_missing(df):\n",
        "  # Get the missing value representation\n",
        "  missing_bools = df.isna()\n",
        "\n",
        "  missing_counts_per_column = []\n",
        "  columns = list(missing_bools.columns)\n",
        "  \n",
        "  ## Find the missing count of each column so that we can view columns with\n",
        "  ## large missing values\n",
        "  for column in columns:\n",
        "    missing_count = len(missing_bools[missing_bools[column] == True])\n",
        "    print(\"Column\", column, \"has \", missing_count)\n",
        "    missing_counts_per_column.append(missing_count)\n",
        "    ret_val = list(zip(columns, missing_counts_per_column))\n",
        "  \n",
        "  ## sort using number of missing values\n",
        "  ret_val.sort(key=lambda y: y[1])\n",
        "  return ret_val\n"
      ],
      "metadata": {
        "id": "_vW61UVuex6D"
      },
      "execution_count": null,
      "outputs": []
    },
    {
      "cell_type": "code",
      "source": [
        "# Drop columns where the missing values is above a certian threshold\n",
        "def drop_columns(df, percentage_threshold):\n",
        "\n",
        "  ## Get the column name with associated missing number of values\n",
        "  missing_value_tuple_list = columns_missing(df);\n",
        "\n",
        "  ## iterate through them and drop columns that have missing values beyond\n",
        "  ## percentage threshold.\n",
        "  for col_val in missing_value_tuple_list:\n",
        "    length_of_col = len(df[col_val[0]])\n",
        "\n",
        "    ## compare the size of column with size of missing values\n",
        "    if col_val[1] >= percentage_threshold * length_of_col:\n",
        "      print(col_val[0], col_val[1], length_of_col)\n",
        "      df = df.drop(col_val[0], axis=1)\n",
        "  return df\n"
      ],
      "metadata": {
        "id": "J1W7xULJsQ_7"
      },
      "execution_count": null,
      "outputs": []
    },
    {
      "cell_type": "code",
      "source": [
        "# Looking at the data I decided the percentage threshold to be 30%\n",
        "data_pr = drop_columns(raw_data, .3)\n",
        "\n",
        "# We can now look at how much of the whole percentage is missing after droppnig\n",
        "# some columns\n",
        "\n",
        "percentage_missing(data_pr)"
      ],
      "metadata": {
        "id": "LNm9oCdCwKPV",
        "colab": {
          "base_uri": "https://localhost:8080/"
        },
        "outputId": "4075342e-9462-4238-a430-cc0f1d233874"
      },
      "execution_count": null,
      "outputs": [
        {
          "output_type": "stream",
          "name": "stdout",
          "text": [
            "Column Bearer Id has  991\n",
            "Column Start has  1\n",
            "Column Start ms has  1\n",
            "Column End has  1\n",
            "Column End ms has  1\n",
            "Column Dur. (ms) has  1\n",
            "Column IMSI has  570\n",
            "Column MSISDN/Number has  1066\n",
            "Column IMEI has  572\n",
            "Column Last Location Name has  1153\n",
            "Column Avg RTT DL (ms) has  27829\n",
            "Column Avg RTT UL (ms) has  27812\n",
            "Column Avg Bearer TP DL (kbps) has  1\n",
            "Column Avg Bearer TP UL (kbps) has  1\n",
            "Column TCP DL Retrans. Vol (Bytes) has  88146\n",
            "Column TCP UL Retrans. Vol (Bytes) has  96649\n",
            "Column DL TP < 50 Kbps (%) has  754\n",
            "Column 50 Kbps < DL TP < 250 Kbps (%) has  754\n",
            "Column 250 Kbps < DL TP < 1 Mbps (%) has  754\n",
            "Column DL TP > 1 Mbps (%) has  754\n",
            "Column UL TP < 10 Kbps (%) has  792\n",
            "Column 10 Kbps < UL TP < 50 Kbps (%) has  792\n",
            "Column 50 Kbps < UL TP < 300 Kbps (%) has  792\n",
            "Column UL TP > 300 Kbps (%) has  792\n",
            "Column HTTP DL (Bytes) has  81474\n",
            "Column HTTP UL (Bytes) has  81810\n",
            "Column Activity Duration DL (ms) has  1\n",
            "Column Activity Duration UL (ms) has  1\n",
            "Column Dur. (ms).1 has  1\n",
            "Column Handset Manufacturer has  572\n",
            "Column Handset Type has  572\n",
            "Column Nb of sec with 125000B < Vol DL has  97538\n",
            "Column Nb of sec with 1250B < Vol UL < 6250B has  92894\n",
            "Column Nb of sec with 31250B < Vol DL < 125000B has  93586\n",
            "Column Nb of sec with 37500B < Vol UL has  130254\n",
            "Column Nb of sec with 6250B < Vol DL < 31250B has  88317\n",
            "Column Nb of sec with 6250B < Vol UL < 37500B has  111843\n",
            "Column Nb of sec with Vol DL < 6250B has  755\n",
            "Column Nb of sec with Vol UL < 1250B has  793\n",
            "Column Social Media DL (Bytes) has  0\n",
            "Column Social Media UL (Bytes) has  0\n",
            "Column Google DL (Bytes) has  0\n",
            "Column Google UL (Bytes) has  0\n",
            "Column Email DL (Bytes) has  0\n",
            "Column Email UL (Bytes) has  0\n",
            "Column Youtube DL (Bytes) has  0\n",
            "Column Youtube UL (Bytes) has  0\n",
            "Column Netflix DL (Bytes) has  0\n",
            "Column Netflix UL (Bytes) has  0\n",
            "Column Gaming DL (Bytes) has  0\n",
            "Column Gaming UL (Bytes) has  0\n",
            "Column Other DL (Bytes) has  0\n",
            "Column Other UL (Bytes) has  0\n",
            "Column Total UL (Bytes) has  1\n",
            "Column Total DL (Bytes) has  1\n",
            "HTTP DL (Bytes) 81474 150001\n",
            "HTTP UL (Bytes) 81810 150001\n",
            "TCP DL Retrans. Vol (Bytes) 88146 150001\n",
            "Nb of sec with 6250B < Vol DL < 31250B 88317 150001\n",
            "Nb of sec with 1250B < Vol UL < 6250B 92894 150001\n",
            "Nb of sec with 31250B < Vol DL < 125000B 93586 150001\n",
            "TCP UL Retrans. Vol (Bytes) 96649 150001\n",
            "Nb of sec with 125000B < Vol DL 97538 150001\n",
            "Nb of sec with 6250B < Vol UL < 37500B 111843 150001\n",
            "Nb of sec with 37500B < Vol UL 130254 150001\n",
            "The dataset is 1.02 % missing values.\n"
          ]
        }
      ]
    },
    {
      "cell_type": "code",
      "source": [
        "# There is a significant decrease of percentage missing. In retrospect,\n",
        "# I shouldn't have deleted 'HTTP DL (Bytes)', 'HTTP UL (Bytes)', but they were \n",
        "# missing more than 50% of their values"
      ],
      "metadata": {
        "id": "O6cUfXzC2oOV"
      },
      "execution_count": null,
      "outputs": []
    },
    {
      "cell_type": "code",
      "source": [
        "# Next lets analyse the the data left and fill the missings\n",
        "columns_missing(data_pr)"
      ],
      "metadata": {
        "id": "a8eOhuke2-_I",
        "colab": {
          "base_uri": "https://localhost:8080/"
        },
        "outputId": "0b01e19b-d3d2-498f-fcd7-7b4cb9afac4d"
      },
      "execution_count": null,
      "outputs": [
        {
          "output_type": "stream",
          "name": "stdout",
          "text": [
            "Column Bearer Id has  991\n",
            "Column Start has  1\n",
            "Column Start ms has  1\n",
            "Column End has  1\n",
            "Column End ms has  1\n",
            "Column Dur. (ms) has  1\n",
            "Column IMSI has  570\n",
            "Column MSISDN/Number has  1066\n",
            "Column IMEI has  572\n",
            "Column Last Location Name has  1153\n",
            "Column Avg RTT DL (ms) has  27829\n",
            "Column Avg RTT UL (ms) has  27812\n",
            "Column Avg Bearer TP DL (kbps) has  1\n",
            "Column Avg Bearer TP UL (kbps) has  1\n",
            "Column DL TP < 50 Kbps (%) has  754\n",
            "Column 50 Kbps < DL TP < 250 Kbps (%) has  754\n",
            "Column 250 Kbps < DL TP < 1 Mbps (%) has  754\n",
            "Column DL TP > 1 Mbps (%) has  754\n",
            "Column UL TP < 10 Kbps (%) has  792\n",
            "Column 10 Kbps < UL TP < 50 Kbps (%) has  792\n",
            "Column 50 Kbps < UL TP < 300 Kbps (%) has  792\n",
            "Column UL TP > 300 Kbps (%) has  792\n",
            "Column Activity Duration DL (ms) has  1\n",
            "Column Activity Duration UL (ms) has  1\n",
            "Column Dur. (ms).1 has  1\n",
            "Column Handset Manufacturer has  572\n",
            "Column Handset Type has  572\n",
            "Column Nb of sec with Vol DL < 6250B has  755\n",
            "Column Nb of sec with Vol UL < 1250B has  793\n",
            "Column Social Media DL (Bytes) has  0\n",
            "Column Social Media UL (Bytes) has  0\n",
            "Column Google DL (Bytes) has  0\n",
            "Column Google UL (Bytes) has  0\n",
            "Column Email DL (Bytes) has  0\n",
            "Column Email UL (Bytes) has  0\n",
            "Column Youtube DL (Bytes) has  0\n",
            "Column Youtube UL (Bytes) has  0\n",
            "Column Netflix DL (Bytes) has  0\n",
            "Column Netflix UL (Bytes) has  0\n",
            "Column Gaming DL (Bytes) has  0\n",
            "Column Gaming UL (Bytes) has  0\n",
            "Column Other DL (Bytes) has  0\n",
            "Column Other UL (Bytes) has  0\n",
            "Column Total UL (Bytes) has  1\n",
            "Column Total DL (Bytes) has  1\n"
          ]
        },
        {
          "output_type": "execute_result",
          "data": {
            "text/plain": [
              "[('Social Media DL (Bytes)', 0),\n",
              " ('Social Media UL (Bytes)', 0),\n",
              " ('Google DL (Bytes)', 0),\n",
              " ('Google UL (Bytes)', 0),\n",
              " ('Email DL (Bytes)', 0),\n",
              " ('Email UL (Bytes)', 0),\n",
              " ('Youtube DL (Bytes)', 0),\n",
              " ('Youtube UL (Bytes)', 0),\n",
              " ('Netflix DL (Bytes)', 0),\n",
              " ('Netflix UL (Bytes)', 0),\n",
              " ('Gaming DL (Bytes)', 0),\n",
              " ('Gaming UL (Bytes)', 0),\n",
              " ('Other DL (Bytes)', 0),\n",
              " ('Other UL (Bytes)', 0),\n",
              " ('Start', 1),\n",
              " ('Start ms', 1),\n",
              " ('End', 1),\n",
              " ('End ms', 1),\n",
              " ('Dur. (ms)', 1),\n",
              " ('Avg Bearer TP DL (kbps)', 1),\n",
              " ('Avg Bearer TP UL (kbps)', 1),\n",
              " ('Activity Duration DL (ms)', 1),\n",
              " ('Activity Duration UL (ms)', 1),\n",
              " ('Dur. (ms).1', 1),\n",
              " ('Total UL (Bytes)', 1),\n",
              " ('Total DL (Bytes)', 1),\n",
              " ('IMSI', 570),\n",
              " ('IMEI', 572),\n",
              " ('Handset Manufacturer', 572),\n",
              " ('Handset Type', 572),\n",
              " ('DL TP < 50 Kbps (%)', 754),\n",
              " ('50 Kbps < DL TP < 250 Kbps (%)', 754),\n",
              " ('250 Kbps < DL TP < 1 Mbps (%)', 754),\n",
              " ('DL TP > 1 Mbps (%)', 754),\n",
              " ('Nb of sec with Vol DL < 6250B', 755),\n",
              " ('UL TP < 10 Kbps (%)', 792),\n",
              " ('10 Kbps < UL TP < 50 Kbps (%)', 792),\n",
              " ('50 Kbps < UL TP < 300 Kbps (%)', 792),\n",
              " ('UL TP > 300 Kbps (%)', 792),\n",
              " ('Nb of sec with Vol UL < 1250B', 793),\n",
              " ('Bearer Id', 991),\n",
              " ('MSISDN/Number', 1066),\n",
              " ('Last Location Name', 1153),\n",
              " ('Avg RTT UL (ms)', 27812),\n",
              " ('Avg RTT DL (ms)', 27829)]"
            ]
          },
          "metadata": {},
          "execution_count": 14
        }
      ]
    },
    {
      "cell_type": "code",
      "source": [
        "# I decided columns with less 10 percent missing values should be filled with\n",
        "# interpolation. There will be some columns that will have values that cannot be\n",
        "# filled like Bearer ID, IMEI, because of the fact they are unique, but we will\n",
        "# resolve this during feature selection"
      ],
      "metadata": {
        "id": "1QQV5POa7oWt"
      },
      "execution_count": null,
      "outputs": []
    },
    {
      "cell_type": "code",
      "source": [
        "# I would like to interpolate and fill the numerical values and later drop ID and\n",
        "# Unwanted columns\n",
        "# Also I will drop raws where there is no handset manufacturer, handset type. This,\n",
        "# will decrease the number of data points but hopefuly by not much. I want to use\n",
        "# Bearer ID"
      ],
      "metadata": {
        "id": "QoifYk-_-OX9"
      },
      "execution_count": null,
      "outputs": []
    },
    {
      "cell_type": "code",
      "source": [
        "def remove_customers_with_no_bearer_id(df):\n",
        "  index = df.index[df[\"Bearer Id\"].isna()]\n",
        "  df = df.drop(index, inplace=True)\n",
        "\n",
        "remove_customers_with_no_bearer_id(data_pr)\n",
        "\n",
        "# This removes customers with no bearer IDs, which is about 991 customers so\n",
        "# no biggie"
      ],
      "metadata": {
        "id": "KN7Ady9rYpN3"
      },
      "execution_count": null,
      "outputs": []
    },
    {
      "cell_type": "code",
      "source": [
        "# Looking at the data, I can also remove customers that have no handset-\n",
        "# manufacturer, and handset type columns to make it easier for later use\n",
        "\n",
        "def remove_customers_with_no_handset_man_type(df):\n",
        "  ## remove customers with no handset manufacturer\n",
        "  man_index = df.index[df[\"Handset Manufacturer\"].isna()]\n",
        "  df = df.drop(man_index, inplace=True)\n",
        "\n",
        "  ## remove customers with no handset type\n",
        "  # type_index = df.index[df[\"Handset Type\"].isna()]\n",
        "  # df = df.drop(type_index, inplace=True)\n",
        "\n",
        "remove_customers_with_no_handset_man_type(data_pr)"
      ],
      "metadata": {
        "id": "PGYs-o33e8sg"
      },
      "execution_count": null,
      "outputs": []
    },
    {
      "cell_type": "code",
      "source": [
        "data_pr.index[data_pr[\"Handset Type\"].isna()] ## this will return empty as we dropped the data"
      ],
      "metadata": {
        "id": "3iNGQPqYhyTG",
        "colab": {
          "base_uri": "https://localhost:8080/"
        },
        "outputId": "3d1cca84-ab45-4f24-e0a7-6af640ca7081"
      },
      "execution_count": null,
      "outputs": [
        {
          "output_type": "execute_result",
          "data": {
            "text/plain": [
              "Int64Index([], dtype='int64')"
            ]
          },
          "metadata": {},
          "execution_count": 19
        }
      ]
    },
    {
      "cell_type": "code",
      "source": [
        "150001 - data_pr.shape[0] ## removed about 1002 data points"
      ],
      "metadata": {
        "id": "O1J9mCKLiF70",
        "colab": {
          "base_uri": "https://localhost:8080/"
        },
        "outputId": "bfccba22-275c-4bf0-8a0f-00cdec0fa646"
      },
      "execution_count": null,
      "outputs": [
        {
          "output_type": "execute_result",
          "data": {
            "text/plain": [
              "1002"
            ]
          },
          "metadata": {},
          "execution_count": 20
        }
      ]
    },
    {
      "cell_type": "code",
      "source": [
        "columns_missing(data_pr) ## Mostly nice looking numerical columns"
      ],
      "metadata": {
        "id": "FneRYH9sifKN",
        "colab": {
          "base_uri": "https://localhost:8080/"
        },
        "outputId": "5e000fcb-6802-4cc7-8f12-ebcaaeb1f909"
      },
      "execution_count": null,
      "outputs": [
        {
          "output_type": "stream",
          "name": "stdout",
          "text": [
            "Column Bearer Id has  0\n",
            "Column Start has  0\n",
            "Column Start ms has  0\n",
            "Column End has  0\n",
            "Column End ms has  0\n",
            "Column Dur. (ms) has  0\n",
            "Column IMSI has  0\n",
            "Column MSISDN/Number has  493\n",
            "Column IMEI has  0\n",
            "Column Last Location Name has  162\n",
            "Column Avg RTT DL (ms) has  27685\n",
            "Column Avg RTT UL (ms) has  27666\n",
            "Column Avg Bearer TP DL (kbps) has  0\n",
            "Column Avg Bearer TP UL (kbps) has  0\n",
            "Column DL TP < 50 Kbps (%) has  716\n",
            "Column 50 Kbps < DL TP < 250 Kbps (%) has  716\n",
            "Column 250 Kbps < DL TP < 1 Mbps (%) has  716\n",
            "Column DL TP > 1 Mbps (%) has  716\n",
            "Column UL TP < 10 Kbps (%) has  770\n",
            "Column 10 Kbps < UL TP < 50 Kbps (%) has  770\n",
            "Column 50 Kbps < UL TP < 300 Kbps (%) has  770\n",
            "Column UL TP > 300 Kbps (%) has  770\n",
            "Column Activity Duration DL (ms) has  0\n",
            "Column Activity Duration UL (ms) has  0\n",
            "Column Dur. (ms).1 has  0\n",
            "Column Handset Manufacturer has  0\n",
            "Column Handset Type has  0\n",
            "Column Nb of sec with Vol DL < 6250B has  717\n",
            "Column Nb of sec with Vol UL < 1250B has  771\n",
            "Column Social Media DL (Bytes) has  0\n",
            "Column Social Media UL (Bytes) has  0\n",
            "Column Google DL (Bytes) has  0\n",
            "Column Google UL (Bytes) has  0\n",
            "Column Email DL (Bytes) has  0\n",
            "Column Email UL (Bytes) has  0\n",
            "Column Youtube DL (Bytes) has  0\n",
            "Column Youtube UL (Bytes) has  0\n",
            "Column Netflix DL (Bytes) has  0\n",
            "Column Netflix UL (Bytes) has  0\n",
            "Column Gaming DL (Bytes) has  0\n",
            "Column Gaming UL (Bytes) has  0\n",
            "Column Other DL (Bytes) has  0\n",
            "Column Other UL (Bytes) has  0\n",
            "Column Total UL (Bytes) has  0\n",
            "Column Total DL (Bytes) has  0\n"
          ]
        },
        {
          "output_type": "execute_result",
          "data": {
            "text/plain": [
              "[('Bearer Id', 0),\n",
              " ('Start', 0),\n",
              " ('Start ms', 0),\n",
              " ('End', 0),\n",
              " ('End ms', 0),\n",
              " ('Dur. (ms)', 0),\n",
              " ('IMSI', 0),\n",
              " ('IMEI', 0),\n",
              " ('Avg Bearer TP DL (kbps)', 0),\n",
              " ('Avg Bearer TP UL (kbps)', 0),\n",
              " ('Activity Duration DL (ms)', 0),\n",
              " ('Activity Duration UL (ms)', 0),\n",
              " ('Dur. (ms).1', 0),\n",
              " ('Handset Manufacturer', 0),\n",
              " ('Handset Type', 0),\n",
              " ('Social Media DL (Bytes)', 0),\n",
              " ('Social Media UL (Bytes)', 0),\n",
              " ('Google DL (Bytes)', 0),\n",
              " ('Google UL (Bytes)', 0),\n",
              " ('Email DL (Bytes)', 0),\n",
              " ('Email UL (Bytes)', 0),\n",
              " ('Youtube DL (Bytes)', 0),\n",
              " ('Youtube UL (Bytes)', 0),\n",
              " ('Netflix DL (Bytes)', 0),\n",
              " ('Netflix UL (Bytes)', 0),\n",
              " ('Gaming DL (Bytes)', 0),\n",
              " ('Gaming UL (Bytes)', 0),\n",
              " ('Other DL (Bytes)', 0),\n",
              " ('Other UL (Bytes)', 0),\n",
              " ('Total UL (Bytes)', 0),\n",
              " ('Total DL (Bytes)', 0),\n",
              " ('Last Location Name', 162),\n",
              " ('MSISDN/Number', 493),\n",
              " ('DL TP < 50 Kbps (%)', 716),\n",
              " ('50 Kbps < DL TP < 250 Kbps (%)', 716),\n",
              " ('250 Kbps < DL TP < 1 Mbps (%)', 716),\n",
              " ('DL TP > 1 Mbps (%)', 716),\n",
              " ('Nb of sec with Vol DL < 6250B', 717),\n",
              " ('UL TP < 10 Kbps (%)', 770),\n",
              " ('10 Kbps < UL TP < 50 Kbps (%)', 770),\n",
              " ('50 Kbps < UL TP < 300 Kbps (%)', 770),\n",
              " ('UL TP > 300 Kbps (%)', 770),\n",
              " ('Nb of sec with Vol UL < 1250B', 771),\n",
              " ('Avg RTT UL (ms)', 27666),\n",
              " ('Avg RTT DL (ms)', 27685)]"
            ]
          },
          "metadata": {},
          "execution_count": 21
        }
      ]
    },
    {
      "cell_type": "code",
      "source": [
        "# Looking at the data there are two data types float64 and object,\n",
        "# this means numbers are only represented in float64, thus easier for interpolation\n",
        "\n",
        "def fill_missing_numerical_values(df):\n",
        "  columns = df.columns\n",
        "  for column in columns:\n",
        "    if df[column].dtype == \"float64\":\n",
        "      df[column] = df[column].interpolate()\n",
        "  return df"
      ],
      "metadata": {
        "id": "CeMFQ1wm_kYN"
      },
      "execution_count": null,
      "outputs": []
    },
    {
      "cell_type": "code",
      "source": [
        "data_pr = fill_missing_numerical_values(data_pr)"
      ],
      "metadata": {
        "id": "CK30J33YAN1D"
      },
      "execution_count": null,
      "outputs": []
    },
    {
      "cell_type": "markdown",
      "source": [
        "#### Data Analysis - Task 1.0"
      ],
      "metadata": {
        "id": "QiWReiyFsHbT"
      }
    },
    {
      "cell_type": "code",
      "source": [
        "# Look at the unique sets of handsets used\n",
        "def handsets_used(df, column):\n",
        "  handsets = df[column].unique().tolist()\n",
        "  return handsets\n",
        "\n",
        "def visualize_use_of_handsets(df, column):\n",
        "  labels = handsets_used(df, column)\n",
        "  sizes = []\n",
        "  for label in labels:\n",
        "    size = df[df[column] == label].shape[0]\n",
        "    sizes.append(size)\n",
        "  fig1, ax1 = plt.subplots(figsize=(7,7))\n",
        "  ax1.pie(sizes, labels=labels, autopct='%1.1f%%', startangle=90)\n",
        "  ax1.axis('equal')\n",
        "  plt.show()"
      ],
      "metadata": {
        "id": "1sqfzJiauRdu"
      },
      "execution_count": null,
      "outputs": []
    },
    {
      "cell_type": "code",
      "source": [
        "visualize_use_of_handsets(data_pr, \"Handset Manufacturer\")"
      ],
      "metadata": {
        "colab": {
          "base_uri": "https://localhost:8080/",
          "height": 421
        },
        "id": "5_Ns2LeEsSxG",
        "outputId": "5601079c-0e8f-4924-e1fa-7172324dd571"
      },
      "execution_count": null,
      "outputs": [
        {
          "output_type": "display_data",
          "data": {
            "text/plain": [
              "<Figure size 504x504 with 1 Axes>"
            ],
            "image/png": "[encoded data removed]"
          },
          "metadata": {}
        }
      ]
    },
    {
      "cell_type": "code",
      "source": [
        "# Looking at the above pie chart, it is not so clear as the data input is large,\n",
        "# so we set limit to the top 10 handsets used\n",
        "def visualize_use_of_handset(df, top_what, column):\n",
        "  labels = handsets_used(df, column)\n",
        "  total_handset = df[column].shape[0]\n",
        "  percentage_left = 0\n",
        "  sizes = []\n",
        "  for label in labels:\n",
        "    size = df[df[column] == label].shape[0]\n",
        "    sizes.append(size)\n",
        "  \n",
        "  size_labels = list(zip(labels, sizes))\n",
        "  size_labels.sort(key=lambda y: y[1], reverse=True)\n",
        "  intermedate_zip = list(zip(*size_labels))\n",
        "  new_labels, new_sizes = list(intermedate_zip[0]), list(intermedate_zip[1])\n",
        "  new_labels, new_sizes = new_labels[:top_what], new_sizes[:top_what]\n",
        "\n",
        "  percentage_left = sum(new_sizes)\n",
        "\n",
        "  ## Add the remaining handsets as others\n",
        "  new_labels.append(\"Others\")\n",
        "  new_sizes.append(total_handset-percentage_left)\n",
        "\n",
        "  print(total_handset-percentage_left)\n",
        "  fig1, ax1 = plt.subplots(figsize=(10,10))\n",
        "  ax1.pie(new_sizes, labels=new_labels, autopct='%1.1f%%', startangle=90)\n",
        "  ax1.axis('equal')\n",
        "  plt.show()"
      ],
      "metadata": {
        "id": "G-7nY1_h0Zg_"
      },
      "execution_count": null,
      "outputs": []
    },
    {
      "cell_type": "code",
      "source": [
        "# visualize the top 20 handsets used by customers\n",
        "visualize_use_of_handset(data_pr, 20, \"Handset Type\")"
      ],
      "metadata": {
        "colab": {
          "base_uri": "https://localhost:8080/",
          "height": 603
        },
        "id": "nxfvSBZeIQx-",
        "outputId": "4df0deba-4f97-4a5c-eb68-6369988252bf"
      },
      "execution_count": null,
      "outputs": [
        {
          "output_type": "stream",
          "name": "stdout",
          "text": [
            "44640\n"
          ]
        },
        {
          "output_type": "display_data",
          "data": {
            "text/plain": [
              "<Figure size 720x720 with 1 Axes>"
            ],
            "image/png": "[encoded data removed]"
          },
          "metadata": {}
        }
      ]
    },
    {
      "cell_type": "code",
      "source": [
        "# visualize the top 3 handset manufacturers\n",
        "visualize_use_of_handset(data_pr, 3, \"Handset Manufacturer\")"
      ],
      "metadata": {
        "colab": {
          "base_uri": "https://localhost:8080/",
          "height": 593
        },
        "id": "_eAjIxBW5pk2",
        "outputId": "457d1226-0292-4c4d-dfc1-1f14bad5a95c"
      },
      "execution_count": null,
      "outputs": [
        {
          "output_type": "stream",
          "name": "stdout",
          "text": [
            "14517\n"
          ]
        },
        {
          "output_type": "display_data",
          "data": {
            "text/plain": [
              "<Figure size 720x720 with 1 Axes>"
            ],
            "image/png": "[encoded data removed]"
          },
          "metadata": {}
        }
      ]
    },
    {
      "cell_type": "code",
      "source": [
        "# visualize most used handsets in the three manufacturer type\n",
        "def visaulize_types_per_manufacturer(df, manufacturer, handset_man, handsets, types_size):\n",
        "  new_df = df[df[handset_man].str.contains(manufacturer)]\n",
        "  labels = handsets_used(new_df, handsets)\n",
        "  total_handset = new_df[handsets].shape[0]\n",
        "  percentage_left = 0\n",
        "  sizes = []\n",
        "  for label in labels:\n",
        "    size = new_df[new_df[handsets] == label].shape[0]\n",
        "    sizes.append(size)\n",
        "  \n",
        "  size_labels = list(zip(labels, sizes))\n",
        "  size_labels.sort(key=lambda y: y[1], reverse=True)\n",
        "  intermedate_zip = list(zip(*size_labels))\n",
        "  new_labels, new_sizes = list(intermedate_zip[0]), list(intermedate_zip[1])\n",
        "  new_labels, new_sizes = new_labels[:types_size], new_sizes[:types_size]\n",
        "\n",
        "  percentage_left = sum(new_sizes)\n",
        "\n",
        "  ## Add the remaining handsets as others\n",
        "  new_labels.append(\"Others\")\n",
        "  new_sizes.append(total_handset-percentage_left)\n",
        "\n",
        "  print(total_handset-percentage_left)\n",
        "  return new_labels, new_sizes"
      ],
      "metadata": {
        "id": "u8TFpE5wDHvs"
      },
      "execution_count": null,
      "outputs": []
    },
    {
      "cell_type": "code",
      "source": [
        "iphone_label, iphone_size = visaulize_types_per_manufacturer(data_pr, \"Apple\", \"Handset Manufacturer\", \"Handset Type\", 5)\n",
        "samsung_label, samsung_size = visaulize_types_per_manufacturer(data_pr, \"Samsung\", \"Handset Manufacturer\", \"Handset Type\", 5)\n",
        "huwaei_label, huwaei_size = visaulize_types_per_manufacturer(data_pr, \"Huawei\", \"Handset Manufacturer\", \"Handset Type\", 5)\n",
        "fig, (ax1,ax2,ax3) = plt.subplots(1,3,figsize=(21,7))\n",
        "ax1.pie(iphone_size, labels=iphone_label, autopct='%1.1f%%', startangle=90, textprops={'color':\"black\"})\n",
        "ax2.pie(samsung_size, labels=samsung_label, autopct='%1.1f%%', startangle=90, textprops={'color':\"blue\"})\n",
        "ax3.pie(huwaei_size, labels=huwaei_label, autopct='%1.1f%%', startangle=90, textprops={'color':\"purple\"})\n",
        "ax1.axis('equal')\n",
        "ax2.axis('equal') \n",
        "ax3.axis('equal') \n",
        "plt.show()"
      ],
      "metadata": {
        "id": "3kwTXoc_O_N5",
        "colab": {
          "base_uri": "https://localhost:8080/",
          "height": 348
        },
        "outputId": "34e86b5e-b0e3-4109-92fd-4a29f5449c6a"
      },
      "execution_count": null,
      "outputs": [
        {
          "output_type": "stream",
          "name": "stdout",
          "text": [
            "24573\n",
            "22110\n",
            "8035\n"
          ]
        },
        {
          "output_type": "display_data",
          "data": {
            "text/plain": [
              "<Figure size 1512x504 with 3 Axes>"
            ],
            "image/png": "[encoded data removed]"
          },
          "metadata": {}
        }
      ]
    },
    {
      "cell_type": "code",
      "source": [
        "data_pr.head()"
      ],
      "metadata": {
        "id": "mbRHvHYF4E_I",
        "colab": {
          "base_uri": "https://localhost:8080/",
          "height": 565
        },
        "outputId": "4a0db02e-dc93-4ec8-ea70-db5619ba8c6b"
      },
      "execution_count": null,
      "outputs": [
        {
          "output_type": "execute_result",
          "data": {
            "text/plain": [
              "                      Bearer Id            Start  Start ms              End  \\\n",
              "0 13,114,483,460,844,900,352.00   4/4/2019 12:01    770.00  4/25/2019 14:35   \n",
              "1 13,114,483,482,878,900,224.00   4/9/2019 13:04    235.00   4/25/2019 8:15   \n",
              "2 13,114,483,484,080,500,736.00   4/9/2019 17:42      1.00  4/25/2019 11:58   \n",
              "3 13,114,483,485,442,799,616.00   4/10/2019 0:31    486.00   4/25/2019 7:36   \n",
              "4 13,114,483,499,480,700,928.00  4/12/2019 20:10    565.00  4/25/2019 10:40   \n",
              "\n",
              "   End ms    Dur. (ms)                   IMSI     MSISDN/Number  \\\n",
              "0  662.00 1,823,652.00 208,201,448,079,117.00 33,664,962,239.00   \n",
              "1  606.00 1,365,104.00 208,201,909,211,140.00 33,681,854,413.00   \n",
              "2  652.00 1,361,762.00 208,200,314,458,056.00 33,760,627,129.00   \n",
              "3  171.00 1,321,509.00 208,201,402,342,131.00 33,750,343,200.00   \n",
              "4  954.00 1,089,009.00 208,201,401,415,120.00 33,699,795,932.00   \n",
              "\n",
              "                   IMEI     Last Location Name  Avg RTT DL (ms)  \\\n",
              "0 35,521,209,507,511.00  9.16456699548519E+015            42.00   \n",
              "1 35,794,009,006,359.00                L77566A            65.00   \n",
              "2 35,281,510,359,387.00                D42335A            72.40   \n",
              "3 35,356,610,164,913.00                T21824A            79.80   \n",
              "4 35,407,009,745,539.00                D88865A            87.20   \n",
              "\n",
              "   Avg RTT UL (ms)  Avg Bearer TP DL (kbps)  Avg Bearer TP UL (kbps)  \\\n",
              "0             5.00                    23.00                    44.00   \n",
              "1             5.00                    16.00                    26.00   \n",
              "2             5.00                     6.00                     9.00   \n",
              "3             5.00                    44.00                    44.00   \n",
              "4             5.00                     6.00                     9.00   \n",
              "\n",
              "   DL TP < 50 Kbps (%)  50 Kbps < DL TP < 250 Kbps (%)  \\\n",
              "0               100.00                            0.00   \n",
              "1               100.00                            0.00   \n",
              "2               100.00                            0.00   \n",
              "3               100.00                            0.00   \n",
              "4               100.00                            0.00   \n",
              "\n",
              "   250 Kbps < DL TP < 1 Mbps (%)  DL TP > 1 Mbps (%)  UL TP < 10 Kbps (%)  \\\n",
              "0                           0.00                0.00               100.00   \n",
              "1                           0.00                0.00               100.00   \n",
              "2                           0.00                0.00               100.00   \n",
              "3                           0.00                0.00               100.00   \n",
              "4                           0.00                0.00               100.00   \n",
              "\n",
              "   10 Kbps < UL TP < 50 Kbps (%)  50 Kbps < UL TP < 300 Kbps (%)  \\\n",
              "0                           0.00                            0.00   \n",
              "1                           0.00                            0.00   \n",
              "2                           0.00                            0.00   \n",
              "3                           0.00                            0.00   \n",
              "4                           0.00                            0.00   \n",
              "\n",
              "   UL TP > 300 Kbps (%)  Activity Duration DL (ms)  Activity Duration UL (ms)  \\\n",
              "0                  0.00                  37,624.00                  38,787.00   \n",
              "1                  0.00                     168.00                   3,560.00   \n",
              "2                  0.00                       0.00                       0.00   \n",
              "3                  0.00                   3,330.00                  37,882.00   \n",
              "4                  0.00                       0.00                       0.00   \n",
              "\n",
              "       Dur. (ms).1 Handset Manufacturer                 Handset Type  \\\n",
              "0 1,823,652,892.00              Samsung   Samsung Galaxy A5 Sm-A520F   \n",
              "1 1,365,104,371.00              Samsung  Samsung Galaxy J5 (Sm-J530)   \n",
              "2 1,361,762,651.00              Samsung     Samsung Galaxy A8 (2018)   \n",
              "3 1,321,509,685.00            undefined                    undefined   \n",
              "4 1,089,009,389.00              Samsung             Samsung Sm-G390F   \n",
              "\n",
              "   Nb of sec with Vol DL < 6250B  Nb of sec with Vol UL < 1250B  \\\n",
              "0                         213.00                         214.00   \n",
              "1                         971.00                       1,022.00   \n",
              "2                         751.00                         695.00   \n",
              "3                          17.00                         207.00   \n",
              "4                         607.00                         604.00   \n",
              "\n",
              "   Social Media DL (Bytes)  Social Media UL (Bytes)  Google DL (Bytes)  \\\n",
              "0             1,545,765.00                24,420.00       1,634,479.00   \n",
              "1             1,926,113.00                 7,165.00       3,493,924.00   \n",
              "2             1,684,053.00                42,224.00       8,535,055.00   \n",
              "3               644,121.00                13,372.00       9,023,734.00   \n",
              "4               862,600.00                50,188.00       6,248,284.00   \n",
              "\n",
              "   Google UL (Bytes)  Email DL (Bytes)  Email UL (Bytes)  Youtube DL (Bytes)  \\\n",
              "0       1,271,433.00      3,563,542.00        137,762.00       15,854,611.00   \n",
              "1         920,172.00        629,046.00        308,339.00       20,247,395.00   \n",
              "2       1,694,064.00      2,690,151.00        672,973.00       19,725,661.00   \n",
              "3       2,788,027.00      1,439,754.00        631,229.00       21,388,122.00   \n",
              "4       1,500,559.00      1,936,496.00        173,853.00       15,259,380.00   \n",
              "\n",
              "   Youtube UL (Bytes)  Netflix DL (Bytes)  Netflix UL (Bytes)  \\\n",
              "0        2,501,332.00        8,198,936.00        9,656,251.00   \n",
              "1       19,111,729.00       18,338,413.00       17,227,132.00   \n",
              "2       14,699,576.00       17,587,794.00        6,163,408.00   \n",
              "3       15,146,643.00       13,994,646.00        1,097,942.00   \n",
              "4       18,962,873.00       17,124,581.00          415,218.00   \n",
              "\n",
              "   Gaming DL (Bytes)  Gaming UL (Bytes)  Other DL (Bytes)  Other UL (Bytes)  \\\n",
              "0     278,082,303.00      14,344,150.00    171,744,450.00      8,814,393.00   \n",
              "1     608,750,074.00       1,170,709.00    526,904,238.00     15,055,145.00   \n",
              "2     229,584,621.00         395,630.00    410,692,588.00      4,215,763.00   \n",
              "3     799,538,153.00      10,849,722.00    749,039,933.00     12,797,283.00   \n",
              "4     527,707,248.00       3,529,801.00    550,709,500.00     13,910,322.00   \n",
              "\n",
              "   Total UL (Bytes)  Total DL (Bytes)  \n",
              "0     36,749,741.00    308,879,636.00  \n",
              "1     53,800,391.00    653,384,965.00  \n",
              "2     27,883,638.00    279,807,335.00  \n",
              "3     43,324,218.00    846,028,530.00  \n",
              "4     38,542,814.00    569,138,589.00  "
            ],
            "text/html": [
              "\n",
              "  <div id=\"df-2ae5150f-9628-4c71-ac06-d4a8202b005c\">\n",
              "    <div class=\"colab-df-container\">\n",
              "      <div>\n",
              "<style scoped>\n",
              "    .dataframe tbody tr th:only-of-type {\n",
              "        vertical-align: middle;\n",
              "    }\n",
              "\n",
              "    .dataframe tbody tr th {\n",
              "        vertical-align: top;\n",
              "    }\n",
              "\n",
              "    .dataframe thead th {\n",
              "        text-align: right;\n",
              "    }\n",
              "</style>\n",
              "<table border=\"1\" class=\"dataframe\">\n",
              "  <thead>\n",
              "    <tr style=\"text-align: right;\">\n",
              "      <th></th>\n",
              "      <th>Bearer Id</th>\n",
              "      <th>Start</th>\n",
              "      <th>Start ms</th>\n",
              "      <th>End</th>\n",
              "      <th>End ms</th>\n",
              "      <th>Dur. (ms)</th>\n",
              "      <th>IMSI</th>\n",
              "      <th>MSISDN/Number</th>\n",
              "      <th>IMEI</th>\n",
              "      <th>Last Location Name</th>\n",
              "      <th>Avg RTT DL (ms)</th>\n",
              "      <th>Avg RTT UL (ms)</th>\n",
              "      <th>Avg Bearer TP DL (kbps)</th>\n",
              "      <th>Avg Bearer TP UL (kbps)</th>\n",
              "      <th>DL TP &lt; 50 Kbps (%)</th>\n",
              "      <th>50 Kbps &lt; DL TP &lt; 250 Kbps (%)</th>\n",
              "      <th>250 Kbps &lt; DL TP &lt; 1 Mbps (%)</th>\n",
              "      <th>DL TP &gt; 1 Mbps (%)</th>\n",
              "      <th>UL TP &lt; 10 Kbps (%)</th>\n",
              "      <th>10 Kbps &lt; UL TP &lt; 50 Kbps (%)</th>\n",
              "      <th>50 Kbps &lt; UL TP &lt; 300 Kbps (%)</th>\n",
              "      <th>UL TP &gt; 300 Kbps (%)</th>\n",
              "      <th>Activity Duration DL (ms)</th>\n",
              "      <th>Activity Duration UL (ms)</th>\n",
              "      <th>Dur. (ms).1</th>\n",
              "      <th>Handset Manufacturer</th>\n",
              "      <th>Handset Type</th>\n",
              "      <th>Nb of sec with Vol DL &lt; 6250B</th>\n",
              "      <th>Nb of sec with Vol UL &lt; 1250B</th>\n",
              "      <th>Social Media DL (Bytes)</th>\n",
              "      <th>Social Media UL (Bytes)</th>\n",
              "      <th>Google DL (Bytes)</th>\n",
              "      <th>Google UL (Bytes)</th>\n",
              "      <th>Email DL (Bytes)</th>\n",
              "      <th>Email UL (Bytes)</th>\n",
              "      <th>Youtube DL (Bytes)</th>\n",
              "      <th>Youtube UL (Bytes)</th>\n",
              "      <th>Netflix DL (Bytes)</th>\n",
              "      <th>Netflix UL (Bytes)</th>\n",
              "      <th>Gaming DL (Bytes)</th>\n",
              "      <th>Gaming UL (Bytes)</th>\n",
              "      <th>Other DL (Bytes)</th>\n",
              "      <th>Other UL (Bytes)</th>\n",
              "      <th>Total UL (Bytes)</th>\n",
              "      <th>Total DL (Bytes)</th>\n",
              "    </tr>\n",
              "  </thead>\n",
              "  <tbody>\n",
              "    <tr>\n",
              "      <th>0</th>\n",
              "      <td>13,114,483,460,844,900,352.00</td>\n",
              "      <td>4/4/2019 12:01</td>\n",
              "      <td>770.00</td>\n",
              "      <td>4/25/2019 14:35</td>\n",
              "      <td>662.00</td>\n",
              "      <td>1,823,652.00</td>\n",
              "      <td>208,201,448,079,117.00</td>\n",
              "      <td>33,664,962,239.00</td>\n",
              "      <td>35,521,209,507,511.00</td>\n",
              "      <td>9.16456699548519E+015</td>\n",
              "      <td>42.00</td>\n",
              "      <td>5.00</td>\n",
              "      <td>23.00</td>\n",
              "      <td>44.00</td>\n",
              "      <td>100.00</td>\n",
              "      <td>0.00</td>\n",
              "      <td>0.00</td>\n",
              "      <td>0.00</td>\n",
              "      <td>100.00</td>\n",
              "      <td>0.00</td>\n",
              "      <td>0.00</td>\n",
              "      <td>0.00</td>\n",
              "      <td>37,624.00</td>\n",
              "      <td>38,787.00</td>\n",
              "      <td>1,823,652,892.00</td>\n",
              "      <td>Samsung</td>\n",
              "      <td>Samsung Galaxy A5 Sm-A520F</td>\n",
              "      <td>213.00</td>\n",
              "      <td>214.00</td>\n",
              "      <td>1,545,765.00</td>\n",
              "      <td>24,420.00</td>\n",
              "      <td>1,634,479.00</td>\n",
              "      <td>1,271,433.00</td>\n",
              "      <td>3,563,542.00</td>\n",
              "      <td>137,762.00</td>\n",
              "      <td>15,854,611.00</td>\n",
              "      <td>2,501,332.00</td>\n",
              "      <td>8,198,936.00</td>\n",
              "      <td>9,656,251.00</td>\n",
              "      <td>278,082,303.00</td>\n",
              "      <td>14,344,150.00</td>\n",
              "      <td>171,744,450.00</td>\n",
              "      <td>8,814,393.00</td>\n",
              "      <td>36,749,741.00</td>\n",
              "      <td>308,879,636.00</td>\n",
              "    </tr>\n",
              "    <tr>\n",
              "      <th>1</th>\n",
              "      <td>13,114,483,482,878,900,224.00</td>\n",
              "      <td>4/9/2019 13:04</td>\n",
              "      <td>235.00</td>\n",
              "      <td>4/25/2019 8:15</td>\n",
              "      <td>606.00</td>\n",
              "      <td>1,365,104.00</td>\n",
              "      <td>208,201,909,211,140.00</td>\n",
              "      <td>33,681,854,413.00</td>\n",
              "      <td>35,794,009,006,359.00</td>\n",
              "      <td>L77566A</td>\n",
              "      <td>65.00</td>\n",
              "      <td>5.00</td>\n",
              "      <td>16.00</td>\n",
              "      <td>26.00</td>\n",
              "      <td>100.00</td>\n",
              "      <td>0.00</td>\n",
              "      <td>0.00</td>\n",
              "      <td>0.00</td>\n",
              "      <td>100.00</td>\n",
              "      <td>0.00</td>\n",
              "      <td>0.00</td>\n",
              "      <td>0.00</td>\n",
              "      <td>168.00</td>\n",
              "      <td>3,560.00</td>\n",
              "      <td>1,365,104,371.00</td>\n",
              "      <td>Samsung</td>\n",
              "      <td>Samsung Galaxy J5 (Sm-J530)</td>\n",
              "      <td>971.00</td>\n",
              "      <td>1,022.00</td>\n",
              "      <td>1,926,113.00</td>\n",
              "      <td>7,165.00</td>\n",
              "      <td>3,493,924.00</td>\n",
              "      <td>920,172.00</td>\n",
              "      <td>629,046.00</td>\n",
              "      <td>308,339.00</td>\n",
              "      <td>20,247,395.00</td>\n",
              "      <td>19,111,729.00</td>\n",
              "      <td>18,338,413.00</td>\n",
              "      <td>17,227,132.00</td>\n",
              "      <td>608,750,074.00</td>\n",
              "      <td>1,170,709.00</td>\n",
              "      <td>526,904,238.00</td>\n",
              "      <td>15,055,145.00</td>\n",
              "      <td>53,800,391.00</td>\n",
              "      <td>653,384,965.00</td>\n",
              "    </tr>\n",
              "    <tr>\n",
              "      <th>2</th>\n",
              "      <td>13,114,483,484,080,500,736.00</td>\n",
              "      <td>4/9/2019 17:42</td>\n",
              "      <td>1.00</td>\n",
              "      <td>4/25/2019 11:58</td>\n",
              "      <td>652.00</td>\n",
              "      <td>1,361,762.00</td>\n",
              "      <td>208,200,314,458,056.00</td>\n",
              "      <td>33,760,627,129.00</td>\n",
              "      <td>35,281,510,359,387.00</td>\n",
              "      <td>D42335A</td>\n",
              "      <td>72.40</td>\n",
              "      <td>5.00</td>\n",
              "      <td>6.00</td>\n",
              "      <td>9.00</td>\n",
              "      <td>100.00</td>\n",
              "      <td>0.00</td>\n",
              "      <td>0.00</td>\n",
              "      <td>0.00</td>\n",
              "      <td>100.00</td>\n",
              "      <td>0.00</td>\n",
              "      <td>0.00</td>\n",
              "      <td>0.00</td>\n",
              "      <td>0.00</td>\n",
              "      <td>0.00</td>\n",
              "      <td>1,361,762,651.00</td>\n",
              "      <td>Samsung</td>\n",
              "      <td>Samsung Galaxy A8 (2018)</td>\n",
              "      <td>751.00</td>\n",
              "      <td>695.00</td>\n",
              "      <td>1,684,053.00</td>\n",
              "      <td>42,224.00</td>\n",
              "      <td>8,535,055.00</td>\n",
              "      <td>1,694,064.00</td>\n",
              "      <td>2,690,151.00</td>\n",
              "      <td>672,973.00</td>\n",
              "      <td>19,725,661.00</td>\n",
              "      <td>14,699,576.00</td>\n",
              "      <td>17,587,794.00</td>\n",
              "      <td>6,163,408.00</td>\n",
              "      <td>229,584,621.00</td>\n",
              "      <td>395,630.00</td>\n",
              "      <td>410,692,588.00</td>\n",
              "      <td>4,215,763.00</td>\n",
              "      <td>27,883,638.00</td>\n",
              "      <td>279,807,335.00</td>\n",
              "    </tr>\n",
              "    <tr>\n",
              "      <th>3</th>\n",
              "      <td>13,114,483,485,442,799,616.00</td>\n",
              "      <td>4/10/2019 0:31</td>\n",
              "      <td>486.00</td>\n",
              "      <td>4/25/2019 7:36</td>\n",
              "      <td>171.00</td>\n",
              "      <td>1,321,509.00</td>\n",
              "      <td>208,201,402,342,131.00</td>\n",
              "      <td>33,750,343,200.00</td>\n",
              "      <td>35,356,610,164,913.00</td>\n",
              "      <td>T21824A</td>\n",
              "      <td>79.80</td>\n",
              "      <td>5.00</td>\n",
              "      <td>44.00</td>\n",
              "      <td>44.00</td>\n",
              "      <td>100.00</td>\n",
              "      <td>0.00</td>\n",
              "      <td>0.00</td>\n",
              "      <td>0.00</td>\n",
              "      <td>100.00</td>\n",
              "      <td>0.00</td>\n",
              "      <td>0.00</td>\n",
              "      <td>0.00</td>\n",
              "      <td>3,330.00</td>\n",
              "      <td>37,882.00</td>\n",
              "      <td>1,321,509,685.00</td>\n",
              "      <td>undefined</td>\n",
              "      <td>undefined</td>\n",
              "      <td>17.00</td>\n",
              "      <td>207.00</td>\n",
              "      <td>644,121.00</td>\n",
              "      <td>13,372.00</td>\n",
              "      <td>9,023,734.00</td>\n",
              "      <td>2,788,027.00</td>\n",
              "      <td>1,439,754.00</td>\n",
              "      <td>631,229.00</td>\n",
              "      <td>21,388,122.00</td>\n",
              "      <td>15,146,643.00</td>\n",
              "      <td>13,994,646.00</td>\n",
              "      <td>1,097,942.00</td>\n",
              "      <td>799,538,153.00</td>\n",
              "      <td>10,849,722.00</td>\n",
              "      <td>749,039,933.00</td>\n",
              "      <td>12,797,283.00</td>\n",
              "      <td>43,324,218.00</td>\n",
              "      <td>846,028,530.00</td>\n",
              "    </tr>\n",
              "    <tr>\n",
              "      <th>4</th>\n",
              "      <td>13,114,483,499,480,700,928.00</td>\n",
              "      <td>4/12/2019 20:10</td>\n",
              "      <td>565.00</td>\n",
              "      <td>4/25/2019 10:40</td>\n",
              "      <td>954.00</td>\n",
              "      <td>1,089,009.00</td>\n",
              "      <td>208,201,401,415,120.00</td>\n",
              "      <td>33,699,795,932.00</td>\n",
              "      <td>35,407,009,745,539.00</td>\n",
              "      <td>D88865A</td>\n",
              "      <td>87.20</td>\n",
              "      <td>5.00</td>\n",
              "      <td>6.00</td>\n",
              "      <td>9.00</td>\n",
              "      <td>100.00</td>\n",
              "      <td>0.00</td>\n",
              "      <td>0.00</td>\n",
              "      <td>0.00</td>\n",
              "      <td>100.00</td>\n",
              "      <td>0.00</td>\n",
              "      <td>0.00</td>\n",
              "      <td>0.00</td>\n",
              "      <td>0.00</td>\n",
              "      <td>0.00</td>\n",
              "      <td>1,089,009,389.00</td>\n",
              "      <td>Samsung</td>\n",
              "      <td>Samsung Sm-G390F</td>\n",
              "      <td>607.00</td>\n",
              "      <td>604.00</td>\n",
              "      <td>862,600.00</td>\n",
              "      <td>50,188.00</td>\n",
              "      <td>6,248,284.00</td>\n",
              "      <td>1,500,559.00</td>\n",
              "      <td>1,936,496.00</td>\n",
              "      <td>173,853.00</td>\n",
              "      <td>15,259,380.00</td>\n",
              "      <td>18,962,873.00</td>\n",
              "      <td>17,124,581.00</td>\n",
              "      <td>415,218.00</td>\n",
              "      <td>527,707,248.00</td>\n",
              "      <td>3,529,801.00</td>\n",
              "      <td>550,709,500.00</td>\n",
              "      <td>13,910,322.00</td>\n",
              "      <td>38,542,814.00</td>\n",
              "      <td>569,138,589.00</td>\n",
              "    </tr>\n",
              "  </tbody>\n",
              "</table>\n",
              "</div>\n",
              "      <button class=\"colab-df-convert\" onclick=\"convertToInteractive('df-2ae5150f-9628-4c71-ac06-d4a8202b005c')\"\n",
              "              title=\"Convert this dataframe to an interactive table.\"\n",
              "              style=\"display:none;\">\n",
              "        \n",
              "  <svg xmlns=\"http://www.w3.org/2000/svg\" height=\"24px\"viewBox=\"0 0 24 24\"\n",
              "       width=\"24px\">\n",
              "    <path d=\"M0 0h24v24H0V0z\" fill=\"none\"/>\n",
              "    <path d=\"M18.56 5.44l.94 2.06.94-2.06 2.06-.94-2.06-.94-.94-2.06-.94 2.06-2.06.94zm-11 1L8.5 8.5l.94-2.06 2.06-.94-2.06-.94L8.5 2.5l-.94 2.06-2.06.94zm10 10l.94 2.06.94-2.06 2.06-.94-2.06-.94-.94-2.06-.94 2.06-2.06.94z\"/><path d=\"M17.41 7.96l-1.37-1.37c-.4-.4-.92-.59-1.43-.59-.52 0-1.04.2-1.43.59L10.3 9.45l-7.72 7.72c-.78.78-.78 2.05 0 2.83L4 21.41c.39.39.9.59 1.41.59.51 0 1.02-.2 1.41-.59l7.78-7.78 2.81-2.81c.8-.78.8-2.07 0-2.86zM5.41 20L4 18.59l7.72-7.72 1.47 1.35L5.41 20z\"/>\n",
              "  </svg>\n",
              "      </button>\n",
              "      \n",
              "  <style>\n",
              "    .colab-df-container {\n",
              "      display:flex;\n",
              "      flex-wrap:wrap;\n",
              "      gap: 12px;\n",
              "    }\n",
              "\n",
              "    .colab-df-convert {\n",
              "      background-color: #E8F0FE;\n",
              "      border: none;\n",
              "      border-radius: 50%;\n",
              "      cursor: pointer;\n",
              "      display: none;\n",
              "      fill: #1967D2;\n",
              "      height: 32px;\n",
              "      padding: 0 0 0 0;\n",
              "      width: 32px;\n",
              "    }\n",
              "\n",
              "    .colab-df-convert:hover {\n",
              "      background-color: #E2EBFA;\n",
              "      box-shadow: 0px 1px 2px rgba(60, 64, 67, 0.3), 0px 1px 3px 1px rgba(60, 64, 67, 0.15);\n",
              "      fill: #174EA6;\n",
              "    }\n",
              "\n",
              "    [theme=dark] .colab-df-convert {\n",
              "      background-color: #3B4455;\n",
              "      fill: #D2E3FC;\n",
              "    }\n",
              "\n",
              "    [theme=dark] .colab-df-convert:hover {\n",
              "      background-color: #434B5C;\n",
              "      box-shadow: 0px 1px 3px 1px rgba(0, 0, 0, 0.15);\n",
              "      filter: drop-shadow(0px 1px 2px rgba(0, 0, 0, 0.3));\n",
              "      fill: #FFFFFF;\n",
              "    }\n",
              "  </style>\n",
              "\n",
              "      <script>\n",
              "        const buttonEl =\n",
              "          document.querySelector('#df-2ae5150f-9628-4c71-ac06-d4a8202b005c button.colab-df-convert');\n",
              "        buttonEl.style.display =\n",
              "          google.colab.kernel.accessAllowed ? 'block' : 'none';\n",
              "\n",
              "        async function convertToInteractive(key) {\n",
              "          const element = document.querySelector('#df-2ae5150f-9628-4c71-ac06-d4a8202b005c');\n",
              "          const dataTable =\n",
              "            await google.colab.kernel.invokeFunction('convertToInteractive',\n",
              "                                                     [key], {});\n",
              "          if (!dataTable) return;\n",
              "\n",
              "          const docLinkHtml = 'Like what you see? Visit the ' +\n",
              "            '<a target=\"_blank\" href=https://colab.research.google.com/notebooks/data_table.ipynb>data table notebook</a>'\n",
              "            + ' to learn more about interactive tables.';\n",
              "          element.innerHTML = '';\n",
              "          dataTable['output_type'] = 'display_data';\n",
              "          await google.colab.output.renderOutput(dataTable, element);\n",
              "          const docLink = document.createElement('div');\n",
              "          docLink.innerHTML = docLinkHtml;\n",
              "          element.appendChild(docLink);\n",
              "        }\n",
              "      </script>\n",
              "    </div>\n",
              "  </div>\n",
              "  "
            ]
          },
          "metadata": {},
          "execution_count": 31
        }
      ]
    },
    {
      "cell_type": "code",
      "source": [
        "data_pr[\"Total UL+DL\"] = data_pr[\"Total UL (Bytes)\"] + data_pr[\"Total DL (Bytes)\"]\n",
        "data_pr[\"Social UL+DL\"] = data_pr[\"Social Media UL (Bytes)\"] + data_pr[\"Social Media DL (Bytes)\"]\n",
        "data_pr[\"Google UL+DL\"] = data_pr[\"Google UL (Bytes)\"] + data_pr[\"Google DL (Bytes)\"]\n",
        "data_pr[\"Youtube UL+DL\"] = data_pr[\"Youtube UL (Bytes)\"] + data_pr[\"Youtube DL (Bytes)\"]\n",
        "data_pr[\"Netflix UL+DL\"] = data_pr[\"Netflix UL (Bytes)\"] + data_pr[\"Netflix DL (Bytes)\"]\n",
        "data_pr[\"Gaming UL+DL\"] = data_pr[\"Gaming UL (Bytes)\"] + data_pr[\"Gaming DL (Bytes)\"]"
      ],
      "metadata": {
        "id": "wYESOwCi3whH"
      },
      "execution_count": null,
      "outputs": []
    },
    {
      "cell_type": "code",
      "source": [
        "data_pr.head()"
      ],
      "metadata": {
        "colab": {
          "base_uri": "https://localhost:8080/",
          "height": 565
        },
        "id": "GeZnLcFGmtcR",
        "outputId": "c57b4f7b-2026-437c-df31-eb94830af05d"
      },
      "execution_count": null,
      "outputs": [
        {
          "output_type": "execute_result",
          "data": {
            "text/plain": [
              "                      Bearer Id            Start  Start ms              End  \\\n",
              "0 13,114,483,460,844,900,352.00   4/4/2019 12:01    770.00  4/25/2019 14:35   \n",
              "1 13,114,483,482,878,900,224.00   4/9/2019 13:04    235.00   4/25/2019 8:15   \n",
              "2 13,114,483,484,080,500,736.00   4/9/2019 17:42      1.00  4/25/2019 11:58   \n",
              "3 13,114,483,485,442,799,616.00   4/10/2019 0:31    486.00   4/25/2019 7:36   \n",
              "4 13,114,483,499,480,700,928.00  4/12/2019 20:10    565.00  4/25/2019 10:40   \n",
              "\n",
              "   End ms    Dur. (ms)                   IMSI     MSISDN/Number  \\\n",
              "0  662.00 1,823,652.00 208,201,448,079,117.00 33,664,962,239.00   \n",
              "1  606.00 1,365,104.00 208,201,909,211,140.00 33,681,854,413.00   \n",
              "2  652.00 1,361,762.00 208,200,314,458,056.00 33,760,627,129.00   \n",
              "3  171.00 1,321,509.00 208,201,402,342,131.00 33,750,343,200.00   \n",
              "4  954.00 1,089,009.00 208,201,401,415,120.00 33,699,795,932.00   \n",
              "\n",
              "                   IMEI     Last Location Name  Avg RTT DL (ms)  \\\n",
              "0 35,521,209,507,511.00  9.16456699548519E+015            42.00   \n",
              "1 35,794,009,006,359.00                L77566A            65.00   \n",
              "2 35,281,510,359,387.00                D42335A            72.40   \n",
              "3 35,356,610,164,913.00                T21824A            79.80   \n",
              "4 35,407,009,745,539.00                D88865A            87.20   \n",
              "\n",
              "   Avg RTT UL (ms)  Avg Bearer TP DL (kbps)  Avg Bearer TP UL (kbps)  \\\n",
              "0             5.00                    23.00                    44.00   \n",
              "1             5.00                    16.00                    26.00   \n",
              "2             5.00                     6.00                     9.00   \n",
              "3             5.00                    44.00                    44.00   \n",
              "4             5.00                     6.00                     9.00   \n",
              "\n",
              "   DL TP < 50 Kbps (%)  50 Kbps < DL TP < 250 Kbps (%)  \\\n",
              "0               100.00                            0.00   \n",
              "1               100.00                            0.00   \n",
              "2               100.00                            0.00   \n",
              "3               100.00                            0.00   \n",
              "4               100.00                            0.00   \n",
              "\n",
              "   250 Kbps < DL TP < 1 Mbps (%)  DL TP > 1 Mbps (%)  UL TP < 10 Kbps (%)  \\\n",
              "0                           0.00                0.00               100.00   \n",
              "1                           0.00                0.00               100.00   \n",
              "2                           0.00                0.00               100.00   \n",
              "3                           0.00                0.00               100.00   \n",
              "4                           0.00                0.00               100.00   \n",
              "\n",
              "   10 Kbps < UL TP < 50 Kbps (%)  50 Kbps < UL TP < 300 Kbps (%)  \\\n",
              "0                           0.00                            0.00   \n",
              "1                           0.00                            0.00   \n",
              "2                           0.00                            0.00   \n",
              "3                           0.00                            0.00   \n",
              "4                           0.00                            0.00   \n",
              "\n",
              "   UL TP > 300 Kbps (%)  Activity Duration DL (ms)  Activity Duration UL (ms)  \\\n",
              "0                  0.00                  37,624.00                  38,787.00   \n",
              "1                  0.00                     168.00                   3,560.00   \n",
              "2                  0.00                       0.00                       0.00   \n",
              "3                  0.00                   3,330.00                  37,882.00   \n",
              "4                  0.00                       0.00                       0.00   \n",
              "\n",
              "       Dur. (ms).1 Handset Manufacturer                 Handset Type  \\\n",
              "0 1,823,652,892.00              Samsung   Samsung Galaxy A5 Sm-A520F   \n",
              "1 1,365,104,371.00              Samsung  Samsung Galaxy J5 (Sm-J530)   \n",
              "2 1,361,762,651.00              Samsung     Samsung Galaxy A8 (2018)   \n",
              "3 1,321,509,685.00            undefined                    undefined   \n",
              "4 1,089,009,389.00              Samsung             Samsung Sm-G390F   \n",
              "\n",
              "   Nb of sec with Vol DL < 6250B  Nb of sec with Vol UL < 1250B  \\\n",
              "0                         213.00                         214.00   \n",
              "1                         971.00                       1,022.00   \n",
              "2                         751.00                         695.00   \n",
              "3                          17.00                         207.00   \n",
              "4                         607.00                         604.00   \n",
              "\n",
              "   Social Media DL (Bytes)  Social Media UL (Bytes)  Google DL (Bytes)  \\\n",
              "0             1,545,765.00                24,420.00       1,634,479.00   \n",
              "1             1,926,113.00                 7,165.00       3,493,924.00   \n",
              "2             1,684,053.00                42,224.00       8,535,055.00   \n",
              "3               644,121.00                13,372.00       9,023,734.00   \n",
              "4               862,600.00                50,188.00       6,248,284.00   \n",
              "\n",
              "   Google UL (Bytes)  Email DL (Bytes)  Email UL (Bytes)  Youtube DL (Bytes)  \\\n",
              "0       1,271,433.00      3,563,542.00        137,762.00       15,854,611.00   \n",
              "1         920,172.00        629,046.00        308,339.00       20,247,395.00   \n",
              "2       1,694,064.00      2,690,151.00        672,973.00       19,725,661.00   \n",
              "3       2,788,027.00      1,439,754.00        631,229.00       21,388,122.00   \n",
              "4       1,500,559.00      1,936,496.00        173,853.00       15,259,380.00   \n",
              "\n",
              "   Youtube UL (Bytes)  Netflix DL (Bytes)  Netflix UL (Bytes)  \\\n",
              "0        2,501,332.00        8,198,936.00        9,656,251.00   \n",
              "1       19,111,729.00       18,338,413.00       17,227,132.00   \n",
              "2       14,699,576.00       17,587,794.00        6,163,408.00   \n",
              "3       15,146,643.00       13,994,646.00        1,097,942.00   \n",
              "4       18,962,873.00       17,124,581.00          415,218.00   \n",
              "\n",
              "   Gaming DL (Bytes)  Gaming UL (Bytes)  Other DL (Bytes)  Other UL (Bytes)  \\\n",
              "0     278,082,303.00      14,344,150.00    171,744,450.00      8,814,393.00   \n",
              "1     608,750,074.00       1,170,709.00    526,904,238.00     15,055,145.00   \n",
              "2     229,584,621.00         395,630.00    410,692,588.00      4,215,763.00   \n",
              "3     799,538,153.00      10,849,722.00    749,039,933.00     12,797,283.00   \n",
              "4     527,707,248.00       3,529,801.00    550,709,500.00     13,910,322.00   \n",
              "\n",
              "   Total UL (Bytes)  Total DL (Bytes)    Total UL+DL  Social UL+DL  \\\n",
              "0     36,749,741.00    308,879,636.00 345,629,377.00  1,570,185.00   \n",
              "1     53,800,391.00    653,384,965.00 707,185,356.00  1,933,278.00   \n",
              "2     27,883,638.00    279,807,335.00 307,690,973.00  1,726,277.00   \n",
              "3     43,324,218.00    846,028,530.00 889,352,748.00    657,493.00   \n",
              "4     38,542,814.00    569,138,589.00 607,681,403.00    912,788.00   \n",
              "\n",
              "   Google UL+DL  Youtube UL+DL  Netflix UL+DL   Gaming UL+DL  \n",
              "0  2,905,912.00  18,355,943.00  17,855,187.00 292,426,453.00  \n",
              "1  4,414,096.00  39,359,124.00  35,565,545.00 609,920,783.00  \n",
              "2 10,229,119.00  34,425,237.00  23,751,202.00 229,980,251.00  \n",
              "3 11,811,761.00  36,534,765.00  15,092,588.00 810,387,875.00  \n",
              "4  7,748,843.00  34,222,253.00  17,539,799.00 531,237,049.00  "
            ],
            "text/html": [
              "\n",
              "  <div id=\"df-71a55d39-5415-4907-be5f-4d1cbdfef7bb\">\n",
              "    <div class=\"colab-df-container\">\n",
              "      <div>\n",
              "<style scoped>\n",
              "    .dataframe tbody tr th:only-of-type {\n",
              "        vertical-align: middle;\n",
              "    }\n",
              "\n",
              "    .dataframe tbody tr th {\n",
              "        vertical-align: top;\n",
              "    }\n",
              "\n",
              "    .dataframe thead th {\n",
              "        text-align: right;\n",
              "    }\n",
              "</style>\n",
              "<table border=\"1\" class=\"dataframe\">\n",
              "  <thead>\n",
              "    <tr style=\"text-align: right;\">\n",
              "      <th></th>\n",
              "      <th>Bearer Id</th>\n",
              "      <th>Start</th>\n",
              "      <th>Start ms</th>\n",
              "      <th>End</th>\n",
              "      <th>End ms</th>\n",
              "      <th>Dur. (ms)</th>\n",
              "      <th>IMSI</th>\n",
              "      <th>MSISDN/Number</th>\n",
              "      <th>IMEI</th>\n",
              "      <th>Last Location Name</th>\n",
              "      <th>Avg RTT DL (ms)</th>\n",
              "      <th>Avg RTT UL (ms)</th>\n",
              "      <th>Avg Bearer TP DL (kbps)</th>\n",
              "      <th>Avg Bearer TP UL (kbps)</th>\n",
              "      <th>DL TP &lt; 50 Kbps (%)</th>\n",
              "      <th>50 Kbps &lt; DL TP &lt; 250 Kbps (%)</th>\n",
              "      <th>250 Kbps &lt; DL TP &lt; 1 Mbps (%)</th>\n",
              "      <th>DL TP &gt; 1 Mbps (%)</th>\n",
              "      <th>UL TP &lt; 10 Kbps (%)</th>\n",
              "      <th>10 Kbps &lt; UL TP &lt; 50 Kbps (%)</th>\n",
              "      <th>50 Kbps &lt; UL TP &lt; 300 Kbps (%)</th>\n",
              "      <th>UL TP &gt; 300 Kbps (%)</th>\n",
              "      <th>Activity Duration DL (ms)</th>\n",
              "      <th>Activity Duration UL (ms)</th>\n",
              "      <th>Dur. (ms).1</th>\n",
              "      <th>Handset Manufacturer</th>\n",
              "      <th>Handset Type</th>\n",
              "      <th>Nb of sec with Vol DL &lt; 6250B</th>\n",
              "      <th>Nb of sec with Vol UL &lt; 1250B</th>\n",
              "      <th>Social Media DL (Bytes)</th>\n",
              "      <th>Social Media UL (Bytes)</th>\n",
              "      <th>Google DL (Bytes)</th>\n",
              "      <th>Google UL (Bytes)</th>\n",
              "      <th>Email DL (Bytes)</th>\n",
              "      <th>Email UL (Bytes)</th>\n",
              "      <th>Youtube DL (Bytes)</th>\n",
              "      <th>Youtube UL (Bytes)</th>\n",
              "      <th>Netflix DL (Bytes)</th>\n",
              "      <th>Netflix UL (Bytes)</th>\n",
              "      <th>Gaming DL (Bytes)</th>\n",
              "      <th>Gaming UL (Bytes)</th>\n",
              "      <th>Other DL (Bytes)</th>\n",
              "      <th>Other UL (Bytes)</th>\n",
              "      <th>Total UL (Bytes)</th>\n",
              "      <th>Total DL (Bytes)</th>\n",
              "      <th>Total UL+DL</th>\n",
              "      <th>Social UL+DL</th>\n",
              "      <th>Google UL+DL</th>\n",
              "      <th>Youtube UL+DL</th>\n",
              "      <th>Netflix UL+DL</th>\n",
              "      <th>Gaming UL+DL</th>\n",
              "    </tr>\n",
              "  </thead>\n",
              "  <tbody>\n",
              "    <tr>\n",
              "      <th>0</th>\n",
              "      <td>13,114,483,460,844,900,352.00</td>\n",
              "      <td>4/4/2019 12:01</td>\n",
              "      <td>770.00</td>\n",
              "      <td>4/25/2019 14:35</td>\n",
              "      <td>662.00</td>\n",
              "      <td>1,823,652.00</td>\n",
              "      <td>208,201,448,079,117.00</td>\n",
              "      <td>33,664,962,239.00</td>\n",
              "      <td>35,521,209,507,511.00</td>\n",
              "      <td>9.16456699548519E+015</td>\n",
              "      <td>42.00</td>\n",
              "      <td>5.00</td>\n",
              "      <td>23.00</td>\n",
              "      <td>44.00</td>\n",
              "      <td>100.00</td>\n",
              "      <td>0.00</td>\n",
              "      <td>0.00</td>\n",
              "      <td>0.00</td>\n",
              "      <td>100.00</td>\n",
              "      <td>0.00</td>\n",
              "      <td>0.00</td>\n",
              "      <td>0.00</td>\n",
              "      <td>37,624.00</td>\n",
              "      <td>38,787.00</td>\n",
              "      <td>1,823,652,892.00</td>\n",
              "      <td>Samsung</td>\n",
              "      <td>Samsung Galaxy A5 Sm-A520F</td>\n",
              "      <td>213.00</td>\n",
              "      <td>214.00</td>\n",
              "      <td>1,545,765.00</td>\n",
              "      <td>24,420.00</td>\n",
              "      <td>1,634,479.00</td>\n",
              "      <td>1,271,433.00</td>\n",
              "      <td>3,563,542.00</td>\n",
              "      <td>137,762.00</td>\n",
              "      <td>15,854,611.00</td>\n",
              "      <td>2,501,332.00</td>\n",
              "      <td>8,198,936.00</td>\n",
              "      <td>9,656,251.00</td>\n",
              "      <td>278,082,303.00</td>\n",
              "      <td>14,344,150.00</td>\n",
              "      <td>171,744,450.00</td>\n",
              "      <td>8,814,393.00</td>\n",
              "      <td>36,749,741.00</td>\n",
              "      <td>308,879,636.00</td>\n",
              "      <td>345,629,377.00</td>\n",
              "      <td>1,570,185.00</td>\n",
              "      <td>2,905,912.00</td>\n",
              "      <td>18,355,943.00</td>\n",
              "      <td>17,855,187.00</td>\n",
              "      <td>292,426,453.00</td>\n",
              "    </tr>\n",
              "    <tr>\n",
              "      <th>1</th>\n",
              "      <td>13,114,483,482,878,900,224.00</td>\n",
              "      <td>4/9/2019 13:04</td>\n",
              "      <td>235.00</td>\n",
              "      <td>4/25/2019 8:15</td>\n",
              "      <td>606.00</td>\n",
              "      <td>1,365,104.00</td>\n",
              "      <td>208,201,909,211,140.00</td>\n",
              "      <td>33,681,854,413.00</td>\n",
              "      <td>35,794,009,006,359.00</td>\n",
              "      <td>L77566A</td>\n",
              "      <td>65.00</td>\n",
              "      <td>5.00</td>\n",
              "      <td>16.00</td>\n",
              "      <td>26.00</td>\n",
              "      <td>100.00</td>\n",
              "      <td>0.00</td>\n",
              "      <td>0.00</td>\n",
              "      <td>0.00</td>\n",
              "      <td>100.00</td>\n",
              "      <td>0.00</td>\n",
              "      <td>0.00</td>\n",
              "      <td>0.00</td>\n",
              "      <td>168.00</td>\n",
              "      <td>3,560.00</td>\n",
              "      <td>1,365,104,371.00</td>\n",
              "      <td>Samsung</td>\n",
              "      <td>Samsung Galaxy J5 (Sm-J530)</td>\n",
              "      <td>971.00</td>\n",
              "      <td>1,022.00</td>\n",
              "      <td>1,926,113.00</td>\n",
              "      <td>7,165.00</td>\n",
              "      <td>3,493,924.00</td>\n",
              "      <td>920,172.00</td>\n",
              "      <td>629,046.00</td>\n",
              "      <td>308,339.00</td>\n",
              "      <td>20,247,395.00</td>\n",
              "      <td>19,111,729.00</td>\n",
              "      <td>18,338,413.00</td>\n",
              "      <td>17,227,132.00</td>\n",
              "      <td>608,750,074.00</td>\n",
              "      <td>1,170,709.00</td>\n",
              "      <td>526,904,238.00</td>\n",
              "      <td>15,055,145.00</td>\n",
              "      <td>53,800,391.00</td>\n",
              "      <td>653,384,965.00</td>\n",
              "      <td>707,185,356.00</td>\n",
              "      <td>1,933,278.00</td>\n",
              "      <td>4,414,096.00</td>\n",
              "      <td>39,359,124.00</td>\n",
              "      <td>35,565,545.00</td>\n",
              "      <td>609,920,783.00</td>\n",
              "    </tr>\n",
              "    <tr>\n",
              "      <th>2</th>\n",
              "      <td>13,114,483,484,080,500,736.00</td>\n",
              "      <td>4/9/2019 17:42</td>\n",
              "      <td>1.00</td>\n",
              "      <td>4/25/2019 11:58</td>\n",
              "      <td>652.00</td>\n",
              "      <td>1,361,762.00</td>\n",
              "      <td>208,200,314,458,056.00</td>\n",
              "      <td>33,760,627,129.00</td>\n",
              "      <td>35,281,510,359,387.00</td>\n",
              "      <td>D42335A</td>\n",
              "      <td>72.40</td>\n",
              "      <td>5.00</td>\n",
              "      <td>6.00</td>\n",
              "      <td>9.00</td>\n",
              "      <td>100.00</td>\n",
              "      <td>0.00</td>\n",
              "      <td>0.00</td>\n",
              "      <td>0.00</td>\n",
              "      <td>100.00</td>\n",
              "      <td>0.00</td>\n",
              "      <td>0.00</td>\n",
              "      <td>0.00</td>\n",
              "      <td>0.00</td>\n",
              "      <td>0.00</td>\n",
              "      <td>1,361,762,651.00</td>\n",
              "      <td>Samsung</td>\n",
              "      <td>Samsung Galaxy A8 (2018)</td>\n",
              "      <td>751.00</td>\n",
              "      <td>695.00</td>\n",
              "      <td>1,684,053.00</td>\n",
              "      <td>42,224.00</td>\n",
              "      <td>8,535,055.00</td>\n",
              "      <td>1,694,064.00</td>\n",
              "      <td>2,690,151.00</td>\n",
              "      <td>672,973.00</td>\n",
              "      <td>19,725,661.00</td>\n",
              "      <td>14,699,576.00</td>\n",
              "      <td>17,587,794.00</td>\n",
              "      <td>6,163,408.00</td>\n",
              "      <td>229,584,621.00</td>\n",
              "      <td>395,630.00</td>\n",
              "      <td>410,692,588.00</td>\n",
              "      <td>4,215,763.00</td>\n",
              "      <td>27,883,638.00</td>\n",
              "      <td>279,807,335.00</td>\n",
              "      <td>307,690,973.00</td>\n",
              "      <td>1,726,277.00</td>\n",
              "      <td>10,229,119.00</td>\n",
              "      <td>34,425,237.00</td>\n",
              "      <td>23,751,202.00</td>\n",
              "      <td>229,980,251.00</td>\n",
              "    </tr>\n",
              "    <tr>\n",
              "      <th>3</th>\n",
              "      <td>13,114,483,485,442,799,616.00</td>\n",
              "      <td>4/10/2019 0:31</td>\n",
              "      <td>486.00</td>\n",
              "      <td>4/25/2019 7:36</td>\n",
              "      <td>171.00</td>\n",
              "      <td>1,321,509.00</td>\n",
              "      <td>208,201,402,342,131.00</td>\n",
              "      <td>33,750,343,200.00</td>\n",
              "      <td>35,356,610,164,913.00</td>\n",
              "      <td>T21824A</td>\n",
              "      <td>79.80</td>\n",
              "      <td>5.00</td>\n",
              "      <td>44.00</td>\n",
              "      <td>44.00</td>\n",
              "      <td>100.00</td>\n",
              "      <td>0.00</td>\n",
              "      <td>0.00</td>\n",
              "      <td>0.00</td>\n",
              "      <td>100.00</td>\n",
              "      <td>0.00</td>\n",
              "      <td>0.00</td>\n",
              "      <td>0.00</td>\n",
              "      <td>3,330.00</td>\n",
              "      <td>37,882.00</td>\n",
              "      <td>1,321,509,685.00</td>\n",
              "      <td>undefined</td>\n",
              "      <td>undefined</td>\n",
              "      <td>17.00</td>\n",
              "      <td>207.00</td>\n",
              "      <td>644,121.00</td>\n",
              "      <td>13,372.00</td>\n",
              "      <td>9,023,734.00</td>\n",
              "      <td>2,788,027.00</td>\n",
              "      <td>1,439,754.00</td>\n",
              "      <td>631,229.00</td>\n",
              "      <td>21,388,122.00</td>\n",
              "      <td>15,146,643.00</td>\n",
              "      <td>13,994,646.00</td>\n",
              "      <td>1,097,942.00</td>\n",
              "      <td>799,538,153.00</td>\n",
              "      <td>10,849,722.00</td>\n",
              "      <td>749,039,933.00</td>\n",
              "      <td>12,797,283.00</td>\n",
              "      <td>43,324,218.00</td>\n",
              "      <td>846,028,530.00</td>\n",
              "      <td>889,352,748.00</td>\n",
              "      <td>657,493.00</td>\n",
              "      <td>11,811,761.00</td>\n",
              "      <td>36,534,765.00</td>\n",
              "      <td>15,092,588.00</td>\n",
              "      <td>810,387,875.00</td>\n",
              "    </tr>\n",
              "    <tr>\n",
              "      <th>4</th>\n",
              "      <td>13,114,483,499,480,700,928.00</td>\n",
              "      <td>4/12/2019 20:10</td>\n",
              "      <td>565.00</td>\n",
              "      <td>4/25/2019 10:40</td>\n",
              "      <td>954.00</td>\n",
              "      <td>1,089,009.00</td>\n",
              "      <td>208,201,401,415,120.00</td>\n",
              "      <td>33,699,795,932.00</td>\n",
              "      <td>35,407,009,745,539.00</td>\n",
              "      <td>D88865A</td>\n",
              "      <td>87.20</td>\n",
              "      <td>5.00</td>\n",
              "      <td>6.00</td>\n",
              "      <td>9.00</td>\n",
              "      <td>100.00</td>\n",
              "      <td>0.00</td>\n",
              "      <td>0.00</td>\n",
              "      <td>0.00</td>\n",
              "      <td>100.00</td>\n",
              "      <td>0.00</td>\n",
              "      <td>0.00</td>\n",
              "      <td>0.00</td>\n",
              "      <td>0.00</td>\n",
              "      <td>0.00</td>\n",
              "      <td>1,089,009,389.00</td>\n",
              "      <td>Samsung</td>\n",
              "      <td>Samsung Sm-G390F</td>\n",
              "      <td>607.00</td>\n",
              "      <td>604.00</td>\n",
              "      <td>862,600.00</td>\n",
              "      <td>50,188.00</td>\n",
              "      <td>6,248,284.00</td>\n",
              "      <td>1,500,559.00</td>\n",
              "      <td>1,936,496.00</td>\n",
              "      <td>173,853.00</td>\n",
              "      <td>15,259,380.00</td>\n",
              "      <td>18,962,873.00</td>\n",
              "      <td>17,124,581.00</td>\n",
              "      <td>415,218.00</td>\n",
              "      <td>527,707,248.00</td>\n",
              "      <td>3,529,801.00</td>\n",
              "      <td>550,709,500.00</td>\n",
              "      <td>13,910,322.00</td>\n",
              "      <td>38,542,814.00</td>\n",
              "      <td>569,138,589.00</td>\n",
              "      <td>607,681,403.00</td>\n",
              "      <td>912,788.00</td>\n",
              "      <td>7,748,843.00</td>\n",
              "      <td>34,222,253.00</td>\n",
              "      <td>17,539,799.00</td>\n",
              "      <td>531,237,049.00</td>\n",
              "    </tr>\n",
              "  </tbody>\n",
              "</table>\n",
              "</div>\n",
              "      <button class=\"colab-df-convert\" onclick=\"convertToInteractive('df-71a55d39-5415-4907-be5f-4d1cbdfef7bb')\"\n",
              "              title=\"Convert this dataframe to an interactive table.\"\n",
              "              style=\"display:none;\">\n",
              "        \n",
              "  <svg xmlns=\"http://www.w3.org/2000/svg\" height=\"24px\"viewBox=\"0 0 24 24\"\n",
              "       width=\"24px\">\n",
              "    <path d=\"M0 0h24v24H0V0z\" fill=\"none\"/>\n",
              "    <path d=\"M18.56 5.44l.94 2.06.94-2.06 2.06-.94-2.06-.94-.94-2.06-.94 2.06-2.06.94zm-11 1L8.5 8.5l.94-2.06 2.06-.94-2.06-.94L8.5 2.5l-.94 2.06-2.06.94zm10 10l.94 2.06.94-2.06 2.06-.94-2.06-.94-.94-2.06-.94 2.06-2.06.94z\"/><path d=\"M17.41 7.96l-1.37-1.37c-.4-.4-.92-.59-1.43-.59-.52 0-1.04.2-1.43.59L10.3 9.45l-7.72 7.72c-.78.78-.78 2.05 0 2.83L4 21.41c.39.39.9.59 1.41.59.51 0 1.02-.2 1.41-.59l7.78-7.78 2.81-2.81c.8-.78.8-2.07 0-2.86zM5.41 20L4 18.59l7.72-7.72 1.47 1.35L5.41 20z\"/>\n",
              "  </svg>\n",
              "      </button>\n",
              "      \n",
              "  <style>\n",
              "    .colab-df-container {\n",
              "      display:flex;\n",
              "      flex-wrap:wrap;\n",
              "      gap: 12px;\n",
              "    }\n",
              "\n",
              "    .colab-df-convert {\n",
              "      background-color: #E8F0FE;\n",
              "      border: none;\n",
              "      border-radius: 50%;\n",
              "      cursor: pointer;\n",
              "      display: none;\n",
              "      fill: #1967D2;\n",
              "      height: 32px;\n",
              "      padding: 0 0 0 0;\n",
              "      width: 32px;\n",
              "    }\n",
              "\n",
              "    .colab-df-convert:hover {\n",
              "      background-color: #E2EBFA;\n",
              "      box-shadow: 0px 1px 2px rgba(60, 64, 67, 0.3), 0px 1px 3px 1px rgba(60, 64, 67, 0.15);\n",
              "      fill: #174EA6;\n",
              "    }\n",
              "\n",
              "    [theme=dark] .colab-df-convert {\n",
              "      background-color: #3B4455;\n",
              "      fill: #D2E3FC;\n",
              "    }\n",
              "\n",
              "    [theme=dark] .colab-df-convert:hover {\n",
              "      background-color: #434B5C;\n",
              "      box-shadow: 0px 1px 3px 1px rgba(0, 0, 0, 0.15);\n",
              "      filter: drop-shadow(0px 1px 2px rgba(0, 0, 0, 0.3));\n",
              "      fill: #FFFFFF;\n",
              "    }\n",
              "  </style>\n",
              "\n",
              "      <script>\n",
              "        const buttonEl =\n",
              "          document.querySelector('#df-71a55d39-5415-4907-be5f-4d1cbdfef7bb button.colab-df-convert');\n",
              "        buttonEl.style.display =\n",
              "          google.colab.kernel.accessAllowed ? 'block' : 'none';\n",
              "\n",
              "        async function convertToInteractive(key) {\n",
              "          const element = document.querySelector('#df-71a55d39-5415-4907-be5f-4d1cbdfef7bb');\n",
              "          const dataTable =\n",
              "            await google.colab.kernel.invokeFunction('convertToInteractive',\n",
              "                                                     [key], {});\n",
              "          if (!dataTable) return;\n",
              "\n",
              "          const docLinkHtml = 'Like what you see? Visit the ' +\n",
              "            '<a target=\"_blank\" href=https://colab.research.google.com/notebooks/data_table.ipynb>data table notebook</a>'\n",
              "            + ' to learn more about interactive tables.';\n",
              "          element.innerHTML = '';\n",
              "          dataTable['output_type'] = 'display_data';\n",
              "          await google.colab.output.renderOutput(dataTable, element);\n",
              "          const docLink = document.createElement('div');\n",
              "          docLink.innerHTML = docLinkHtml;\n",
              "          element.appendChild(docLink);\n",
              "        }\n",
              "      </script>\n",
              "    </div>\n",
              "  </div>\n",
              "  "
            ]
          },
          "metadata": {},
          "execution_count": 34
        }
      ]
    },
    {
      "cell_type": "markdown",
      "source": [
        "#### Data Analysis - Task 1.1"
      ],
      "metadata": {
        "id": "NP-ORv6o-3PS"
      }
    },
    {
      "cell_type": "code",
      "source": [
        "# First we need to get what xDR is\n",
        "# xDR is a collection of the session WRT Social Media, \n",
        "# Google, Email, Youtube, Netflix, Gaming, Other . \n",
        "data_pr.head(5)"
      ],
      "metadata": {
        "id": "nDG_zjB9_GnC"
      },
      "execution_count": null,
      "outputs": []
    },
    {
      "cell_type": "code",
      "source": [
        "# Aggregate per user the following information in the column  \n",
        "# 1. number of xDR sessions\n",
        "# 2. Session duration\n",
        "# 3. the total download (DL) and upload (UL) data\n",
        "# 4. the total data volume (in Bytes) during this session for each application\n",
        "\n",
        "# The above informations are used as columns\n",
        "\n",
        "columns = [\"Bearer Id\", \"number of xDR sessions\", \"Session Duration\", \"Total DL\", \"Total UL\", \"Total vol social\", \"Total vol google\", \n",
        "           \"Total vol youtube\", \"Total vol netflix\", \"Total vol gaming\", \"Total vol other\"]\n",
        "data_purged = pd.DataFrame(columns=columns)"
      ],
      "metadata": {
        "id": "gLK-En0j_lxf"
      },
      "execution_count": null,
      "outputs": []
    },
    {
      "cell_type": "code",
      "source": [
        "data_purged[\"Bearer Id\"] = data_pr[\"Bearer Id\"].unique()"
      ],
      "metadata": {
        "id": "gXXk9VFVM_oa"
      },
      "execution_count": null,
      "outputs": []
    },
    {
      "cell_type": "code",
      "source": [
        "# data_purged[\"Bearer Id\"] = data_pr[\"Bearer Id\"].unique()\n",
        "nXDR, sD, TDl, TUl, TVS, TVY, TVG, TVN, TVGa, TVO = [],[],[],[],[],[],[],[],[],[]\n",
        "for unique_id in data_purged[\"Bearer Id\"]:\n",
        "  nXDR.append(len(data_pr[data_pr[\"Bearer Id\"] == unique_id]))\n",
        "  sD.append(data_pr[\"Dur. (ms)\"][data_pr[\"Bearer Id\"] == unique_id].sum())\n",
        "  TDl.append(data_pr[\"Total DL (Bytes)\"][data_pr[\"Bearer Id\"] == unique_id].sum())\n",
        "  TUl.append(data_pr[\"Total UL (Bytes)\"][data_pr[\"Bearer Id\"] == unique_id].sum())\n",
        "  TVS.append(data_pr[\"Social Media UL (Bytes)\"][data_pr[\"Bearer Id\"] == unique_id].sum() + data_pr[\"Social Media DL (Bytes)\"][data_pr[\"Bearer Id\"] == unique_id].sum())\n",
        "  TVY.append(data_pr[\"Youtube UL (Bytes)\"][data_pr[\"Bearer Id\"] == unique_id].sum() + data_pr[\"Youtube DL (Bytes)\"][data_pr[\"Bearer Id\"] == unique_id].sum())\n",
        "  TVG.append(data_pr[\"Google UL (Bytes)\"][data_pr[\"Bearer Id\"] == unique_id].sum() + data_pr[\"Google DL (Bytes)\"][data_pr[\"Bearer Id\"] == unique_id].sum())\n",
        "  TVN.append(data_pr[\"Netflix UL (Bytes)\"][data_pr[\"Bearer Id\"] == unique_id].sum() + data_pr[\"Netflix DL (Bytes)\"][data_pr[\"Bearer Id\"] == unique_id].sum())\n",
        "  TVG.append(data_pr[\"Gaming UL (Bytes)\"][data_pr[\"Bearer Id\"] == unique_id].sum() + data_pr[\"Gaming DL (Bytes)\"][data_pr[\"Bearer Id\"] == unique_id].sum())\n",
        "  TVO.append(data_pr[\"Other UL (Bytes)\"][data_pr[\"Bearer Id\"] == unique_id].sum() + data_pr[\"Other DL (Bytes)\"][data_pr[\"Bearer Id\"] == unique_id].sum())\n",
        "\n",
        "#### NEVER EXCUTE THIS IT takes 17 minutes"
      ],
      "metadata": {
        "id": "dhYOO6FGKyBW"
      },
      "execution_count": null,
      "outputs": []
    },
    {
      "cell_type": "code",
      "source": [
        "data_purged[\"number of xDR sessions\"] = nXDR\n",
        "data_purged[\"Session Duration\"] = sD\n",
        "data_purged[\"Total DL\"] = TDl\n",
        "data_purged[\"Total UL\"] = TUl\n",
        "data_purged['Total vol social'] = TVS\n",
        "data_purged['Total vol youtube'] = TVY\n",
        "data_purged['Total vol google'] = TVG[:134697]\n",
        "data_purged['Total vol netflix'] = TVN\n",
        "data_purged['Total vol gaming'] = TVG[134697:]\n",
        "data_purged['Total vol other'] = TVO\n",
        "  "
      ],
      "metadata": {
        "id": "ojo09mMqVJhI"
      },
      "execution_count": null,
      "outputs": []
    },
    {
      "cell_type": "markdown",
      "source": [
        "#### Data Analysis - Task 1.3"
      ],
      "metadata": {
        "id": "4F-nCxBYS0tT"
      }
    },
    {
      "cell_type": "code",
      "source": [
        "data_purged = pd.read_csv('data_purged.csv')"
      ],
      "metadata": {
        "id": "Sm-YdrwWaxv5"
      },
      "execution_count": null,
      "outputs": []
    },
    {
      "cell_type": "markdown",
      "source": [
        "##### Standardizing and Normalizing"
      ],
      "metadata": {
        "id": "esOE16uIssAS"
      }
    },
    {
      "cell_type": "code",
      "source": [
        "from sklearn.preprocessing import MinMaxScaler\n",
        "from sklearn.preprocessing import Normalizer\n",
        "\n",
        "minmax_scaler = MinMaxScaler()\n",
        "\n",
        "# generate 1000 data points randomly drawn from an exponential distribution\n",
        "# mix-max scale the data between 0 and 1\n",
        "def scaler(df):\n",
        "    scaled_data = minmax_scaler.fit_transform(df)\n",
        "\n",
        "    # plot both together to compare\n",
        "    fig, ax = plt.subplots(1,2, figsize=(10, 6))\n",
        "    sns.histplot(df, ax=ax[0])\n",
        "    ax[0].set_title(\"Original Data\")\n",
        "    sns.histplot(scaled_data, ax=ax[1])\n",
        "    ax[1].set_title(\"Scaled data\")\n",
        "    \n",
        "\n",
        "def normalizer(df):\n",
        "    norm = Normalizer()\n",
        "    # normalize the exponential data with boxcox\n",
        "    normalized_data = norm.fit_transform(df)\n",
        "\n",
        "    # plot both together to compare\n",
        "    fig, ax=plt.subplots(1,2, figsize=(10, 6))\n",
        "    sns.histplot(df, ax=ax[0])\n",
        "    ax[0].set_title(\"Original Data\")\n",
        "    sns.histplot(normalized_data[0], ax=ax[1])\n",
        "    ax[1].set_title(\"Normalized data\")"
      ],
      "metadata": {
        "id": "y2SPQuJWsw_s"
      },
      "execution_count": null,
      "outputs": []
    },
    {
      "cell_type": "code",
      "source": [
        "bearer_id_holder = data_purged[\"Bearer Id\"]\n",
        "data_purged.drop([\"Bearer Id\"], axis=1, inplace=True)\n",
        "data_purged.head()"
      ],
      "metadata": {
        "id": "thl781YqtavH"
      },
      "execution_count": null,
      "outputs": []
    },
    {
      "cell_type": "code",
      "source": [
        "scaler(data_purged)\n",
        "normalizer(data_purged)"
      ],
      "metadata": {
        "id": "r40o-dvQuWCc"
      },
      "execution_count": null,
      "outputs": []
    },
    {
      "cell_type": "code",
      "source": [
        "data_purged.insert(0, \"Bearer Id\" ,bearer_id_holder)"
      ],
      "metadata": {
        "id": "C28bvx79vICu"
      },
      "execution_count": null,
      "outputs": []
    },
    {
      "cell_type": "code",
      "source": [
        "data_purged.head()"
      ],
      "metadata": {
        "id": "FJi9xbgevl7s"
      },
      "execution_count": null,
      "outputs": []
    },
    {
      "cell_type": "markdown",
      "source": [
        "##### 1. Basic central tendencies (Mean, Median and, Mode)"
      ],
      "metadata": {
        "id": "0SEukCdlliN8"
      }
    },
    {
      "cell_type": "code",
      "source": [
        "columns = [\"Mean\", \"Median\", \"Mode\"]\n",
        "indexs = [\"number of xDR sessions\", \"Session Duration\", \"Total DL\", \"Total UL\",\n",
        "          'Total vol social', 'Total vol youtube', 'Total vol google', \n",
        "          'Total vol netflix', 'Total vol gaming', 'Total vol other']\n",
        "central_tendency = pd.DataFrame(columns=columns, index=indexs)"
      ],
      "metadata": {
        "id": "kWkL6WL84Y4y"
      },
      "execution_count": null,
      "outputs": []
    },
    {
      "cell_type": "code",
      "source": [
        "central_tendency[\"Mode\"] = [data_purged[modes].mode() for modes in data_purged.columns][1:]"
      ],
      "metadata": {
        "id": "vPSNr5kZd5MA"
      },
      "execution_count": null,
      "outputs": []
    },
    {
      "cell_type": "code",
      "source": [
        "central_tendency[\"Median\"] = data_purged.median()"
      ],
      "metadata": {
        "id": "DECBi3-Tj_OC"
      },
      "execution_count": null,
      "outputs": []
    },
    {
      "cell_type": "code",
      "source": [
        "central_tendency[\"Mean\"] = data_purged.mean()"
      ],
      "metadata": {
        "id": "ui_8HVsbi4Vf"
      },
      "execution_count": null,
      "outputs": []
    },
    {
      "cell_type": "code",
      "source": [
        "central_tendency"
      ],
      "metadata": {
        "id": "4sgqjAQYixNt"
      },
      "execution_count": null,
      "outputs": []
    },
    {
      "cell_type": "markdown",
      "source": [
        "##### 2. Measures of dispersion"
      ],
      "metadata": {
        "id": "z0fFNUTYlmgn"
      }
    },
    {
      "cell_type": "code",
      "source": [
        "# The main measures of dispersion -  standard deviation, variance\n",
        "columns = [\"Variance\", \"Standard Devation\"]\n",
        "dispersion = pd.DataFrame(columns=columns, index=indexs)"
      ],
      "metadata": {
        "id": "pNDJkHdGlufG"
      },
      "execution_count": null,
      "outputs": []
    },
    {
      "cell_type": "code",
      "source": [
        "dispersion[\"Variance\"] = data_purged.var()[1:]"
      ],
      "metadata": {
        "id": "i_EBnFpknazv"
      },
      "execution_count": null,
      "outputs": []
    },
    {
      "cell_type": "code",
      "source": [
        "dispersion[\"Standard Devation\"] = data_purged.std()[1:]"
      ],
      "metadata": {
        "id": "ly9ezYwVnx8p"
      },
      "execution_count": null,
      "outputs": []
    },
    {
      "cell_type": "code",
      "source": [
        "dispersion"
      ],
      "metadata": {
        "id": "gMgA31uBj34H"
      },
      "execution_count": null,
      "outputs": []
    },
    {
      "cell_type": "markdown",
      "source": [
        "##### 3. Graphical univariate analysis "
      ],
      "metadata": {
        "id": "DKcxkP66ouik"
      }
    },
    {
      "cell_type": "code",
      "source": [
        "plot_hist(data_purged, \"Total DL\", \"blue\")"
      ],
      "metadata": {
        "id": "5pDQAQaeo3AD"
      },
      "execution_count": null,
      "outputs": []
    },
    {
      "cell_type": "code",
      "source": [
        "plot_hist(data_purged, \"Total UL\", \"green\")"
      ],
      "metadata": {
        "id": "QFGpwQ42yJJF"
      },
      "execution_count": null,
      "outputs": []
    },
    {
      "cell_type": "code",
      "source": [
        "plot_hist(data_purged, \"Session Duration\", \"cyan\")"
      ],
      "metadata": {
        "id": "cLjiLTD50JcG"
      },
      "execution_count": null,
      "outputs": []
    },
    {
      "cell_type": "code",
      "source": [
        "# Check outliers\n",
        "plot_box(data_purged, \"Total DL\", \"Total UL outliers\")"
      ],
      "metadata": {
        "id": "y4Sj_6vpy57x"
      },
      "execution_count": null,
      "outputs": []
    },
    {
      "cell_type": "code",
      "source": [
        "# Total vol social', 'Total vol youtube', 'Total vol google', \n",
        "#           'Total vol netflix', 'Total vol gaming', 'Total vol other'"
      ],
      "metadata": {
        "id": "J5Lnw8TXz1eS"
      },
      "execution_count": null,
      "outputs": []
    },
    {
      "cell_type": "code",
      "source": [
        "plot_hist(data_purged, \"Total vol social\", \"yellow\")"
      ],
      "metadata": {
        "id": "9FkSbzuZ1R3A"
      },
      "execution_count": null,
      "outputs": []
    },
    {
      "cell_type": "code",
      "source": [
        "plot_hist(data_purged, \"Total vol youtube\", \"magenta\")"
      ],
      "metadata": {
        "id": "78Pkfa0i1Z0R"
      },
      "execution_count": null,
      "outputs": []
    },
    {
      "cell_type": "code",
      "source": [
        "plot_hist(data_purged, \"Total vol google\", \"gray\")"
      ],
      "metadata": {
        "id": "JQ5aTaRP1eEe"
      },
      "execution_count": null,
      "outputs": []
    },
    {
      "cell_type": "code",
      "source": [
        "plot_hist(data_purged, \"Total vol netflix\", \"lightgreen\")"
      ],
      "metadata": {
        "id": "BHPDMmLV1hPH"
      },
      "execution_count": null,
      "outputs": []
    },
    {
      "cell_type": "markdown",
      "source": [
        "##### Bivariate Analysis"
      ],
      "metadata": {
        "id": "mI8AhkWs17_0"
      }
    },
    {
      "cell_type": "code",
      "source": [
        "# Handset Manufacturer\n",
        "plot_scatter(data_pr.head(100), x_col=\"Total UL+DL\", y_col=\"Social UL+DL\", hue=\"Handset Manufacturer\",\n",
        "              style=None, title=\"Total UL+DL vs Social Media\")"
      ],
      "metadata": {
        "id": "BvuDvTFA2DI-"
      },
      "execution_count": null,
      "outputs": []
    },
    {
      "cell_type": "code",
      "source": [],
      "metadata": {
        "id": "1Ads__4r6MNl"
      },
      "execution_count": null,
      "outputs": []
    },
    {
      "cell_type": "code",
      "source": [
        "plot_scatter(data_pr.head(100), x_col=\"Total UL+DL\", y_col=\"Youtube UL+DL\", hue=\"Handset Manufacturer\",\n",
        "              style=None, title=\"Total UL+DL vs Youtube\")"
      ],
      "metadata": {
        "id": "f2xOc4Ui6VE0"
      },
      "execution_count": null,
      "outputs": []
    },
    {
      "cell_type": "code",
      "source": [
        "plot_scatter(data_pr.head(100), x_col=\"Total UL+DL\", y_col=\"Netflix UL+DL\", hue=\"Handset Manufacturer\",\n",
        "              style=None, title=\"Total UL+DL vs Netflix\")"
      ],
      "metadata": {
        "id": "spbcteMW6UVr"
      },
      "execution_count": null,
      "outputs": []
    },
    {
      "cell_type": "code",
      "source": [
        "plot_scatter(data_pr.head(100), x_col=\"Total UL+DL\", y_col=\"Gaming UL+DL\", hue=\"Handset Manufacturer\",\n",
        "              style=None, title=\"Total UL+DL vs Gaming\")"
      ],
      "metadata": {
        "id": "KMgImSkX6W3i"
      },
      "execution_count": null,
      "outputs": []
    },
    {
      "cell_type": "markdown",
      "source": [
        "##### Variable translations"
      ],
      "metadata": {
        "id": "blDCypY886nZ"
      }
    },
    {
      "cell_type": "code",
      "source": [
        "# First arrange based on total volume\n",
        "data_arranged = data_pr.sort_values(by=\"Total UL+DL\", ascending=False)"
      ],
      "metadata": {
        "id": "3onnDKif8-8K"
      },
      "execution_count": null,
      "outputs": []
    },
    {
      "cell_type": "code",
      "source": [
        "top_five_decile_dataframes = np.array_split(data_arranged[:148990], 10)[:5] # dropped last 10 element to make it decile"
      ],
      "metadata": {
        "id": "GPVnpo1R_Fsm"
      },
      "execution_count": null,
      "outputs": []
    },
    {
      "cell_type": "code",
      "source": [
        "total_duration_for_top_five = [decile_class[\"Total UL+DL\"].sum() for decile_class in top_five_decile_dataframes]"
      ],
      "metadata": {
        "id": "3uHVhGqIBLYS"
      },
      "execution_count": null,
      "outputs": []
    },
    {
      "cell_type": "code",
      "source": [
        "total_duration_for_top_five"
      ],
      "metadata": {
        "id": "EZSU7Z20BqVJ"
      },
      "execution_count": null,
      "outputs": []
    },
    {
      "cell_type": "markdown",
      "source": [
        "##### 5. Correlation Matrix"
      ],
      "metadata": {
        "id": "Qdo_SkyfDCZ9"
      }
    },
    {
      "cell_type": "code",
      "source": [
        "columns = [\"Social UL+DL\",\t\"Google UL+DL\",\t\"Youtube UL+DL\",\t\"Netflix UL+DL\",\t\"Gaming UL+DL\"]\n",
        "data_for_conf = data_pr[columns]"
      ],
      "metadata": {
        "id": "8NA4C3dADHs2"
      },
      "execution_count": null,
      "outputs": []
    },
    {
      "cell_type": "code",
      "source": [
        "correlation_matrix = data_for_conf.corr()\n",
        "sns.heatmap(correlation_matrix, annot=True)\n",
        "plt.show()"
      ],
      "metadata": {
        "id": "CbucLSLaIp7O"
      },
      "execution_count": null,
      "outputs": []
    },
    {
      "cell_type": "markdown",
      "source": [
        "##### Dimentionality Reduction"
      ],
      "metadata": {
        "id": "lOCv-vjoJQ1K"
      }
    },
    {
      "cell_type": "code",
      "source": [
        "from sklearn.decomposition import PCA\n",
        "pca = PCA(n_components=2)"
      ],
      "metadata": {
        "id": "KJTDZLnfJWS_"
      },
      "execution_count": null,
      "outputs": []
    },
    {
      "cell_type": "code",
      "source": [
        "# fit the data to 2D\n",
        "data_2d = pca.fit_transform(data_for_conf)"
      ],
      "metadata": {
        "id": "Fp9pL75oQ2RH"
      },
      "execution_count": null,
      "outputs": []
    },
    {
      "cell_type": "code",
      "source": [
        "# Explaining variance ratio\n",
        "pca.explained_variance_ratio_"
      ],
      "metadata": {
        "id": "ODpSl3ULQhrq"
      },
      "execution_count": null,
      "outputs": []
    },
    {
      "cell_type": "code",
      "source": [
        "# Variance lost\n",
        "1 - pca.explained_variance_ratio_.sum()"
      ],
      "metadata": {
        "id": "hKL6DOgWRZbh"
      },
      "execution_count": null,
      "outputs": []
    },
    {
      "cell_type": "code",
      "source": [
        "# 1.1% variance lost for the whole transformation"
      ],
      "metadata": {
        "id": "hXopWlkiReei"
      },
      "execution_count": null,
      "outputs": []
    },
    {
      "cell_type": "code",
      "source": [
        "data_2d"
      ],
      "metadata": {
        "id": "2hC89XFKRldB"
      },
      "execution_count": null,
      "outputs": []
    }
  ]
}