{
  "nbformat": 4,
  "nbformat_minor": 0,
  "metadata": {
    "colab": {
      "name": "week1_experience_analytics.ipynb",
      "provenance": []
    },
    "kernelspec": {
      "name": "python3",
      "display_name": "Python 3"
    },
    "language_info": {
      "name": "python"
    }
  },
  "cells": [
    {
      "cell_type": "markdown",
      "source": [
        "## Imports"
      ],
      "metadata": {
        "id": "MIsU2IuCXOS4"
      }
    },
    {
      "cell_type": "code",
      "source": [
        "import warnings\n",
        "warnings.filterwarnings('ignore')\n",
        "import matplotlib.pyplot as plt\n",
        "import seaborn as sns\n",
        "from wordcloud import STOPWORDS,WordCloud\n",
        "import gensim\n",
        "from gensim.models import CoherenceModel\n",
        "from gensim import corpora\n",
        "import pandas as pd\n",
        "from pprint import pprint\n",
        "import string\n",
        "import os\n",
        "import re\n",
        "import numpy as np \n",
        "import pandas as pd \n",
        "import re\n",
        "import nltk \n",
        "import matplotlib.pyplot as plt\n",
        "import seaborn as sns\n",
        "%matplotlib inline\n",
        "from nltk.corpus import stopwords\n",
        "from sklearn.feature_extraction.text import TfidfVectorizer\n",
        "from sklearn.model_selection import train_test_split\n",
        "from sklearn.ensemble import RandomForestClassifier\n",
        "from sklearn.metrics import accuracy_score\n",
        "from sklearn.tree import DecisionTreeClassifier\n",
        "from sklearn.svm import SVC\n",
        "from sklearn.ensemble import BaggingClassifier\n",
        "from sklearn.datasets import make_multilabel_classification\n",
        "from sklearn.multioutput import MultiOutputClassifier\n",
        "import joblib\n",
        "import seaborn as sns"
      ],
      "metadata": {
        "id": "zrhGRzbvXRou"
      },
      "execution_count": 1,
      "outputs": []
    },
    {
      "cell_type": "markdown",
      "source": [
        "### 1. Data Loading"
      ],
      "metadata": {
        "id": "WMcrzyHREuDc"
      }
    },
    {
      "cell_type": "code",
      "source": [
        "class DataLoader:\n",
        "  def __init__(self,dir_name,file_name):\n",
        "    self.dir_name = dir_name\n",
        "    self.file_name = file_name\n",
        "    \n",
        " \n",
        "  def read_csv(self):\n",
        "    os.chdir(self.dir_name)\n",
        "    tweets_df=pd.read_csv(self.file_name)\n",
        "    return tweets_df\n",
        "\n",
        "data_loader_object = DataLoader('/content/drive/MyDrive/', 'Week1_challenge_data_source(CSV).csv')\n",
        "raw_data = data_loader_object.read_csv()"
      ],
      "metadata": {
        "id": "l1yUWyJwPk2D"
      },
      "execution_count": 2,
      "outputs": []
    },
    {
      "cell_type": "markdown",
      "source": [
        "### ."
      ],
      "metadata": {
        "id": "uNdcYeDdP79S"
      }
    },
    {
      "cell_type": "markdown",
      "source": [
        "##### Task 3.1 Aggregate, per customer, the following information (treat missing & outliers by replacing by the mean or the mode of the corresponding variable):\n",
        "* Average TCP retransmission\n",
        "* Average RTT\n",
        "* Handset type\n",
        "* Average throughput\n"
      ],
      "metadata": {
        "id": "BgimlDPTP-TK"
      }
    },
    {
      "cell_type": "code",
      "source": [
        "raw_data.fillna(raw_data.mean(), inplace=True)\n",
        "columns = [\"MSISDN/Number\", \"Average RTT\", \"Average TCP retransmission\", \"Average throughput\"]\n",
        "data_filled = pd.DataFrame(columns=columns)"
      ],
      "metadata": {
        "id": "4ARRk75MQOWv"
      },
      "execution_count": 3,
      "outputs": []
    },
    {
      "cell_type": "code",
      "source": [
        "data_filled[\"MSISDN/Number\"] = raw_data.groupby(\"MSISDN/Number\").agg({\"Bearer Id\": \"count\"}).reset_index()[\"MSISDN/Number\"]\n",
        "data_filled[\"Average RTT\"] = raw_data.groupby(\"MSISDN/Number\").agg({\"Avg RTT DL (ms)\": \"mean\"}).reset_index()[\"Avg RTT DL (ms)\"]+ raw_data.groupby(\"MSISDN/Number\").agg({\"Avg RTT UL (ms)\": \"sum\"}).reset_index()[\"Avg RTT UL (ms)\"]\n",
        "data_filled[\"Average TCP retransmission\"] = raw_data.groupby(\"MSISDN/Number\").agg({\"TCP DL Retrans. Vol (Bytes)\": \"mean\"}).reset_index()[\"TCP DL Retrans. Vol (Bytes)\"]+ raw_data.groupby(\"MSISDN/Number\").agg({\"TCP UL Retrans. Vol (Bytes)\": \"sum\"}).reset_index()[\"TCP UL Retrans. Vol (Bytes)\"]\n",
        "data_filled[\"Average throughput\"] = raw_data.groupby(\"MSISDN/Number\").agg({\"Avg Bearer TP DL (kbps)\": \"mean\"}).reset_index()[\"Avg Bearer TP DL (kbps)\"]+ raw_data.groupby(\"MSISDN/Number\").agg({\"Avg Bearer TP UL (kbps)\": \"sum\"}).reset_index()[\"Avg Bearer TP UL (kbps)\"]"
      ],
      "metadata": {
        "id": "Qz7gJqsTXmg9"
      },
      "execution_count": 4,
      "outputs": []
    },
    {
      "cell_type": "markdown",
      "source": [
        "##### Task 3.2 - Compute & list 10 of the top, bottom and most frequent:\n",
        "1. TCP values in the dataset. \n",
        "2. RTT values in the dataset.\n",
        "3. Throughput values in the dataset.\n"
      ],
      "metadata": {
        "id": "oqbvNLfwdsai"
      }
    },
    {
      "cell_type": "code",
      "source": [
        "ten_most_tcp = data_filled.nlargest(n=10, columns=[\"Average TCP retransmission\"])[\"Average TCP retransmission\"]\n",
        "ten_bottom_tcp = data_filled.nsmallest(n=10, columns=[\"Average TCP retransmission\"])[\"Average TCP retransmission\"]\n",
        "\n",
        "ten_most_rtt = data_filled.nlargest(n=10, columns=[\"Average RTT\"])[\"Average RTT\"]\n",
        "ten_bottom_rtt = data_filled.nsmallest(n=10, columns=[\"Average RTT\"])[\"Average RTT\"]\n",
        "\n",
        "ten_most_tp = data_filled.nlargest(n=10, columns=[\"Average throughput\"])[\"Average throughput\"]\n",
        "ten_bottom_tp = data_filled.nsmallest(n=10, columns=[\"Average throughput\"])[\"Average throughput\"]\n"
      ],
      "metadata": {
        "id": "Qk59SI70dyVe"
      },
      "execution_count": 5,
      "outputs": []
    },
    {
      "cell_type": "code",
      "source": [
        "data_filled.head()"
      ],
      "metadata": {
        "colab": {
          "base_uri": "https://localhost:8080/",
          "height": 206
        },
        "id": "31AjXZ77m2cS",
        "outputId": "f9705878-0f22-4103-9dca-bca750a17a35"
      },
      "execution_count": 6,
      "outputs": [
        {
          "output_type": "execute_result",
          "data": {
            "text/plain": [
              "   MSISDN/Number  Average RTT  Average TCP retransmission  Average throughput\n",
              "0   3.360100e+10    46.000000                2.156957e+07                76.0\n",
              "1   3.360100e+10    31.000000                2.156957e+07                99.0\n",
              "2   3.360100e+10   127.458589                2.156957e+07                97.0\n",
              "3   3.360101e+10    84.000000                7.607247e+05               248.0\n",
              "4   3.360101e+10    62.000000                1.586063e+07             36646.5"
            ],
            "text/html": [
              "\n",
              "  <div id=\"df-e20a2a7d-8c85-4061-9af6-1c0b4f65b6c8\">\n",
              "    <div class=\"colab-df-container\">\n",
              "      <div>\n",
              "<style scoped>\n",
              "    .dataframe tbody tr th:only-of-type {\n",
              "        vertical-align: middle;\n",
              "    }\n",
              "\n",
              "    .dataframe tbody tr th {\n",
              "        vertical-align: top;\n",
              "    }\n",
              "\n",
              "    .dataframe thead th {\n",
              "        text-align: right;\n",
              "    }\n",
              "</style>\n",
              "<table border=\"1\" class=\"dataframe\">\n",
              "  <thead>\n",
              "    <tr style=\"text-align: right;\">\n",
              "      <th></th>\n",
              "      <th>MSISDN/Number</th>\n",
              "      <th>Average RTT</th>\n",
              "      <th>Average TCP retransmission</th>\n",
              "      <th>Average throughput</th>\n",
              "    </tr>\n",
              "  </thead>\n",
              "  <tbody>\n",
              "    <tr>\n",
              "      <th>0</th>\n",
              "      <td>3.360100e+10</td>\n",
              "      <td>46.000000</td>\n",
              "      <td>2.156957e+07</td>\n",
              "      <td>76.0</td>\n",
              "    </tr>\n",
              "    <tr>\n",
              "      <th>1</th>\n",
              "      <td>3.360100e+10</td>\n",
              "      <td>31.000000</td>\n",
              "      <td>2.156957e+07</td>\n",
              "      <td>99.0</td>\n",
              "    </tr>\n",
              "    <tr>\n",
              "      <th>2</th>\n",
              "      <td>3.360100e+10</td>\n",
              "      <td>127.458589</td>\n",
              "      <td>2.156957e+07</td>\n",
              "      <td>97.0</td>\n",
              "    </tr>\n",
              "    <tr>\n",
              "      <th>3</th>\n",
              "      <td>3.360101e+10</td>\n",
              "      <td>84.000000</td>\n",
              "      <td>7.607247e+05</td>\n",
              "      <td>248.0</td>\n",
              "    </tr>\n",
              "    <tr>\n",
              "      <th>4</th>\n",
              "      <td>3.360101e+10</td>\n",
              "      <td>62.000000</td>\n",
              "      <td>1.586063e+07</td>\n",
              "      <td>36646.5</td>\n",
              "    </tr>\n",
              "  </tbody>\n",
              "</table>\n",
              "</div>\n",
              "      <button class=\"colab-df-convert\" onclick=\"convertToInteractive('df-e20a2a7d-8c85-4061-9af6-1c0b4f65b6c8')\"\n",
              "              title=\"Convert this dataframe to an interactive table.\"\n",
              "              style=\"display:none;\">\n",
              "        \n",
              "  <svg xmlns=\"http://www.w3.org/2000/svg\" height=\"24px\"viewBox=\"0 0 24 24\"\n",
              "       width=\"24px\">\n",
              "    <path d=\"M0 0h24v24H0V0z\" fill=\"none\"/>\n",
              "    <path d=\"M18.56 5.44l.94 2.06.94-2.06 2.06-.94-2.06-.94-.94-2.06-.94 2.06-2.06.94zm-11 1L8.5 8.5l.94-2.06 2.06-.94-2.06-.94L8.5 2.5l-.94 2.06-2.06.94zm10 10l.94 2.06.94-2.06 2.06-.94-2.06-.94-.94-2.06-.94 2.06-2.06.94z\"/><path d=\"M17.41 7.96l-1.37-1.37c-.4-.4-.92-.59-1.43-.59-.52 0-1.04.2-1.43.59L10.3 9.45l-7.72 7.72c-.78.78-.78 2.05 0 2.83L4 21.41c.39.39.9.59 1.41.59.51 0 1.02-.2 1.41-.59l7.78-7.78 2.81-2.81c.8-.78.8-2.07 0-2.86zM5.41 20L4 18.59l7.72-7.72 1.47 1.35L5.41 20z\"/>\n",
              "  </svg>\n",
              "      </button>\n",
              "      \n",
              "  <style>\n",
              "    .colab-df-container {\n",
              "      display:flex;\n",
              "      flex-wrap:wrap;\n",
              "      gap: 12px;\n",
              "    }\n",
              "\n",
              "    .colab-df-convert {\n",
              "      background-color: #E8F0FE;\n",
              "      border: none;\n",
              "      border-radius: 50%;\n",
              "      cursor: pointer;\n",
              "      display: none;\n",
              "      fill: #1967D2;\n",
              "      height: 32px;\n",
              "      padding: 0 0 0 0;\n",
              "      width: 32px;\n",
              "    }\n",
              "\n",
              "    .colab-df-convert:hover {\n",
              "      background-color: #E2EBFA;\n",
              "      box-shadow: 0px 1px 2px rgba(60, 64, 67, 0.3), 0px 1px 3px 1px rgba(60, 64, 67, 0.15);\n",
              "      fill: #174EA6;\n",
              "    }\n",
              "\n",
              "    [theme=dark] .colab-df-convert {\n",
              "      background-color: #3B4455;\n",
              "      fill: #D2E3FC;\n",
              "    }\n",
              "\n",
              "    [theme=dark] .colab-df-convert:hover {\n",
              "      background-color: #434B5C;\n",
              "      box-shadow: 0px 1px 3px 1px rgba(0, 0, 0, 0.15);\n",
              "      filter: drop-shadow(0px 1px 2px rgba(0, 0, 0, 0.3));\n",
              "      fill: #FFFFFF;\n",
              "    }\n",
              "  </style>\n",
              "\n",
              "      <script>\n",
              "        const buttonEl =\n",
              "          document.querySelector('#df-e20a2a7d-8c85-4061-9af6-1c0b4f65b6c8 button.colab-df-convert');\n",
              "        buttonEl.style.display =\n",
              "          google.colab.kernel.accessAllowed ? 'block' : 'none';\n",
              "\n",
              "        async function convertToInteractive(key) {\n",
              "          const element = document.querySelector('#df-e20a2a7d-8c85-4061-9af6-1c0b4f65b6c8');\n",
              "          const dataTable =\n",
              "            await google.colab.kernel.invokeFunction('convertToInteractive',\n",
              "                                                     [key], {});\n",
              "          if (!dataTable) return;\n",
              "\n",
              "          const docLinkHtml = 'Like what you see? Visit the ' +\n",
              "            '<a target=\"_blank\" href=https://colab.research.google.com/notebooks/data_table.ipynb>data table notebook</a>'\n",
              "            + ' to learn more about interactive tables.';\n",
              "          element.innerHTML = '';\n",
              "          dataTable['output_type'] = 'display_data';\n",
              "          await google.colab.output.renderOutput(dataTable, element);\n",
              "          const docLink = document.createElement('div');\n",
              "          docLink.innerHTML = docLinkHtml;\n",
              "          element.appendChild(docLink);\n",
              "        }\n",
              "      </script>\n",
              "    </div>\n",
              "  </div>\n",
              "  "
            ]
          },
          "metadata": {},
          "execution_count": 6
        }
      ]
    },
    {
      "cell_type": "markdown",
      "source": [
        "##### Task 3.3 - Compute & report:\n",
        "1. The distribution of the average throughput  per handset type and provide interpretation for your findings.\n",
        "2. The average TCP retransmission view per handset type and provide interpretation for your findings.\n"
      ],
      "metadata": {
        "id": "HClY8TnEhxJJ"
      }
    },
    {
      "cell_type": "markdown",
      "source": [
        "##### Task 3.4 - Using the experience metrics above, perform a k-means clustering (where k = 3) to segment users into groups of experiences and provide a brief description of each cluster. (The description must define each group based on your understanding of the data)"
      ],
      "metadata": {
        "id": "FOnIfYM3mWiC"
      }
    },
    {
      "cell_type": "code",
      "source": [
        "from sklearn.preprocessing import MinMaxScaler\n",
        "def normalizer(df):\n",
        "  norm = MinMaxScaler()\n",
        "  # normalize the exponential data with boxcox\n",
        "  normalized_data = norm.fit_transform(df)\n",
        "  return normalized_data\n",
        "new_data = normalizer(data_filled[1:])"
      ],
      "metadata": {
        "id": "_pH6OQSnmbFi"
      },
      "execution_count": 7,
      "outputs": []
    },
    {
      "cell_type": "code",
      "source": [
        "from sklearn.cluster import KMeans\n",
        "k = 3\n",
        "kmeans = KMeans(n_clusters=k, random_state=42)\n",
        "y_pred = kmeans.fit_predict(new_data)"
      ],
      "metadata": {
        "id": "qLi5jrgfnBKo"
      },
      "execution_count": 8,
      "outputs": []
    },
    {
      "cell_type": "code",
      "source": [
        "experience_centriods = pd.DataFrame(kmeans.cluster_centers_)"
      ],
      "metadata": {
        "id": "xo6FYFRGncp6"
      },
      "execution_count": 9,
      "outputs": []
    },
    {
      "cell_type": "code",
      "source": [
        "normalized_data = pd.DataFrame(new_data)"
      ],
      "metadata": {
        "id": "bAobb1Upydz0"
      },
      "execution_count": 10,
      "outputs": []
    },
    {
      "cell_type": "code",
      "source": [
        "experience_centriods.to_csv(\"experience_centriods.csv\", index=False)\n",
        "normalized_data.to_csv(\"experience_data.csv\", index=False)"
      ],
      "metadata": {
        "id": "sX5F74ZjzGUN"
      },
      "execution_count": 12,
      "outputs": []
    }
  ]
}