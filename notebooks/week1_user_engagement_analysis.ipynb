{
  "nbformat": 4,
  "nbformat_minor": 0,
  "metadata": {
    "colab": {
      "name": "week1_user_engagement_analysis.ipynb",
      "provenance": [],
      "collapsed_sections": []
    },
    "kernelspec": {
      "name": "python3",
      "display_name": "Python 3"
    },
    "language_info": {
      "name": "python"
    },
    "gpuClass": "standard"
  },
  "cells": [
    {
      "cell_type": "code",
      "execution_count": 1,
      "metadata": {
        "id": "ZgCwNWkml-k5"
      },
      "outputs": [],
      "source": [
        "### Calculate the sessions frequency as follows\n",
        "# Total Session Frequency = Dur. (ms) / (Activity Duration DL (ms) + Activity Duration UL (ms))\n",
        "\n",
        "### Calculate Duration of the session as follows\n",
        "# Downlink Duration = (Total DL (Bytes) / (Avg Bearer TP DL (kbps) / 1000\n",
        "# Uplink Duration = (Total DL (Bytes) + Avg Bearer TP UL (kbps)) / 1000\n",
        "\n",
        "# Total Duration (Assuming uplink and downlink took place at different time) = Downlink Duration + Uplink Duraiton"
      ]
    },
    {
      "cell_type": "markdown",
      "source": [
        "## Imports"
      ],
      "metadata": {
        "id": "VxlYkhbPEXqm"
      }
    },
    {
      "cell_type": "code",
      "source": [
        "import warnings\n",
        "warnings.filterwarnings('ignore')\n",
        "import matplotlib.pyplot as plt\n",
        "import seaborn as sns\n",
        "from wordcloud import STOPWORDS,WordCloud\n",
        "import gensim\n",
        "from gensim.models import CoherenceModel\n",
        "from gensim import corpora\n",
        "import pandas as pd\n",
        "from pprint import pprint\n",
        "import string\n",
        "import os\n",
        "import re\n",
        "import numpy as np \n",
        "import pandas as pd \n",
        "import re\n",
        "import nltk \n",
        "import matplotlib.pyplot as plt\n",
        "import seaborn as sns\n",
        "%matplotlib inline\n",
        "from nltk.corpus import stopwords\n",
        "from sklearn.feature_extraction.text import TfidfVectorizer\n",
        "from sklearn.model_selection import train_test_split\n",
        "from sklearn.ensemble import RandomForestClassifier\n",
        "from sklearn.metrics import accuracy_score\n",
        "from sklearn.tree import DecisionTreeClassifier\n",
        "from sklearn.svm import SVC\n",
        "from sklearn.ensemble import BaggingClassifier\n",
        "from sklearn.datasets import make_multilabel_classification\n",
        "from sklearn.multioutput import MultiOutputClassifier\n",
        "import joblib\n",
        "import seaborn as sns"
      ],
      "metadata": {
        "id": "lE97WNN5EP3L"
      },
      "execution_count": 2,
      "outputs": []
    },
    {
      "cell_type": "code",
      "source": [
        "pd.set_option('display.max_columns', None) ## so that full columns are visible"
      ],
      "metadata": {
        "id": "plqHs3SpQltD"
      },
      "execution_count": 3,
      "outputs": []
    },
    {
      "cell_type": "markdown",
      "source": [
        "## Procedures \n",
        "1. Data loading\n",
        "2. Data Cleaning\n",
        "3. Data transforming\n",
        "4. Data Extraction\n",
        "5. EDA"
      ],
      "metadata": {
        "id": "XkOLiIeiEsxk"
      }
    },
    {
      "cell_type": "markdown",
      "source": [
        "### 1. Data Loading"
      ],
      "metadata": {
        "id": "WMcrzyHREuDc"
      }
    },
    {
      "cell_type": "code",
      "source": [
        "class DataLoader:\n",
        "  def __init__(self,dir_name,file_name):\n",
        "    self.dir_name = dir_name\n",
        "    self.file_name = file_name\n",
        "    \n",
        " \n",
        "  def read_csv(self):\n",
        "    os.chdir(self.dir_name)\n",
        "    tweets_df=pd.read_csv(self.file_name)\n",
        "    return tweets_df\n",
        "\n",
        "data_loader_object = DataLoader('/content/drive/MyDrive/', 'Week1_challenge_data_source(CSV).csv')\n",
        "raw_data = data_loader_object.read_csv()"
      ],
      "metadata": {
        "id": "-hoJrhBgExjf"
      },
      "execution_count": 4,
      "outputs": []
    },
    {
      "cell_type": "markdown",
      "source": [
        "### 2. Data Cleaning"
      ],
      "metadata": {
        "id": "8ch0fr1VF90v"
      }
    },
    {
      "cell_type": "code",
      "source": [
        "len(raw_data[\"MSISDN/Number\"].unique().tolist())"
      ],
      "metadata": {
        "colab": {
          "base_uri": "https://localhost:8080/"
        },
        "id": "_VxwC2ohQbbW",
        "outputId": "d7bed695-674a-4c3f-eb5b-d9616d7cd495"
      },
      "execution_count": 5,
      "outputs": [
        {
          "output_type": "execute_result",
          "data": {
            "text/plain": [
              "106857"
            ]
          },
          "metadata": {},
          "execution_count": 5
        }
      ]
    },
    {
      "cell_type": "code",
      "source": [
        "# Get the new data for the task\n",
        "imp_columns = [\"MSISDN/Number\", \"Frequency\", \"DL Duration\", \"UL Duration\",\n",
        "               \"Sessions Total UL\", \"Sessions Total\"]\n",
        "data_pruned = pd.DataFrame(columns=imp_columns)"
      ],
      "metadata": {
        "id": "rouByCcrNYqt"
      },
      "execution_count": 6,
      "outputs": []
    },
    {
      "cell_type": "code",
      "source": [
        "data_pruned[\"MSISDN/Number\"] = raw_data.groupby(\"MSISDN/Number\").agg({\"Bearer Id\": \"count\"}).reset_index()[\"MSISDN/Number\"]\n",
        "data_pruned[\"Frequency\"] = raw_data.groupby(\"MSISDN/Number\").agg({\"Bearer Id\": \"count\"}).reset_index()[\"Bearer Id\"]\n",
        "data_pruned[\"DL Duration\"] = raw_data.groupby(\"MSISDN/Number\").agg({\"Activity Duration DL (ms)\": \"sum\"}).reset_index()[\"Activity Duration DL (ms)\"]\n",
        "data_pruned[\"UL Duration\"] = raw_data.groupby(\"MSISDN/Number\").agg({\"Activity Duration UL (ms)\": \"sum\"}).reset_index()[\"Activity Duration UL (ms)\"]\n",
        "data_pruned[\"Sessions Total DL\"] = raw_data.groupby(\"MSISDN/Number\").agg({\"Total DL (Bytes)\": \"sum\"}).reset_index()[\"Total DL (Bytes)\"]\n",
        "data_pruned[\"Sessions Total UL\"] = raw_data.groupby(\"MSISDN/Number\").agg({\"Total UL (Bytes)\": \"sum\"}).reset_index()[\"Total UL (Bytes)\"]"
      ],
      "metadata": {
        "id": "lZuT_d_xYeQg"
      },
      "execution_count": 7,
      "outputs": []
    },
    {
      "cell_type": "code",
      "source": [
        "data_pruned[\"Sessions Total\"] = data_pruned[\"Sessions Total DL\"] + data_pruned[\"Sessions Total UL\"]"
      ],
      "metadata": {
        "id": "siPxMflSiTD7"
      },
      "execution_count": 8,
      "outputs": []
    },
    {
      "cell_type": "code",
      "source": [
        "data_pruned.isna().sum()"
      ],
      "metadata": {
        "colab": {
          "base_uri": "https://localhost:8080/"
        },
        "id": "bNpqrjUynZLM",
        "outputId": "d756fa2e-65c5-428a-ad30-d3b42adf91ad"
      },
      "execution_count": 9,
      "outputs": [
        {
          "output_type": "execute_result",
          "data": {
            "text/plain": [
              "MSISDN/Number        0\n",
              "Frequency            0\n",
              "DL Duration          0\n",
              "UL Duration          0\n",
              "Sessions Total UL    0\n",
              "Sessions Total       0\n",
              "Sessions Total DL    0\n",
              "dtype: int64"
            ]
          },
          "metadata": {},
          "execution_count": 9
        }
      ]
    },
    {
      "cell_type": "markdown",
      "source": [
        "#### Task 2.1"
      ],
      "metadata": {
        "id": "jSs6DnxdiArW"
      }
    },
    {
      "cell_type": "markdown",
      "source": [
        "##### Aggregate the above metrics per customer id (MSISDN)"
      ],
      "metadata": {
        "id": "spYSsD4WiNJ4"
      }
    },
    {
      "cell_type": "code",
      "source": [
        "# Top 10 Customers per session frequency\n",
        "top_10_per_frequency = data_pruned.nlargest(n=10, columns=[\"Frequency\"])"
      ],
      "metadata": {
        "id": "6uPmF79miOKq"
      },
      "execution_count": 10,
      "outputs": []
    },
    {
      "cell_type": "code",
      "source": [
        "# Top 10 Customers per DL Duration\n",
        "top_10_per_DL_duration = data_pruned.nlargest(n=10, columns=[\"DL Duration\"])"
      ],
      "metadata": {
        "id": "XabPi05qjE_e"
      },
      "execution_count": 11,
      "outputs": []
    },
    {
      "cell_type": "code",
      "source": [
        "# Top 10 Customers per UL Duration\n",
        "top_10_per_UL_duration= data_pruned.nlargest(n=10, columns=[\"UL Duration\"])"
      ],
      "metadata": {
        "id": "swQSSmOflI7_"
      },
      "execution_count": 12,
      "outputs": []
    },
    {
      "cell_type": "code",
      "source": [
        "# Top 10 Customers per sessions totla\n",
        "top_10_per_sessions_total= data_pruned.nlargest(n=10, columns=[\"Sessions Total\"])"
      ],
      "metadata": {
        "id": "Y71lZhg2lifb"
      },
      "execution_count": 13,
      "outputs": []
    },
    {
      "cell_type": "markdown",
      "source": [
        "##### Normalize each engagement metric and run a k-means (k=3) to classify customers in three groups of engagement. \n"
      ],
      "metadata": {
        "id": "7oTxpBazl1xC"
      }
    },
    {
      "cell_type": "code",
      "source": [
        "data_pruned.shape[0] "
      ],
      "metadata": {
        "colab": {
          "base_uri": "https://localhost:8080/"
        },
        "id": "re7NhmBBrd5n",
        "outputId": "3f153f29-6953-4b21-928d-bca0925b7155"
      },
      "execution_count": 14,
      "outputs": [
        {
          "output_type": "execute_result",
          "data": {
            "text/plain": [
              "106856"
            ]
          },
          "metadata": {},
          "execution_count": 14
        }
      ]
    },
    {
      "cell_type": "code",
      "source": [
        "from sklearn.preprocessing import MinMaxScaler\n",
        "def normalizer(df):\n",
        "  norm = MinMaxScaler()\n",
        "  # normalize the exponential data with boxcox\n",
        "  normalized_data = norm.fit_transform(df)\n",
        "  return normalized_data\n",
        "\n",
        "def split_and_norm(df):\n",
        "  columns = df.columns\n",
        "  step = df.shape[0]//50\n",
        "  ret_df = pd.DataFrame(columns=columns)\n",
        "  for i in range(50):\n",
        "    ndf = df[i*step: (i+1)*step]\n",
        "    normalized_data = normalizer(ndf)\n",
        "    print(pd.DataFrame(normalized_data, columns=columns))\n",
        "    # pd.concat([ret_df, pd.DataFrame(normalized_data, columns=columns)])\n",
        "  return ret_df"
      ],
      "metadata": {
        "id": "kI9RJ2Nwl-Aw"
      },
      "execution_count": 15,
      "outputs": []
    },
    {
      "cell_type": "code",
      "source": [
        "msisdn_value = data_pruned[\"MSISDN/Number\"]\n",
        "### Saving the data for task 4\n",
        "\n",
        "data_pruned = data_pruned.drop(\"MSISDN/Number\", axis=1)"
      ],
      "metadata": {
        "id": "mNT_pemqy50M"
      },
      "execution_count": 16,
      "outputs": []
    },
    {
      "cell_type": "code",
      "source": [
        "new_data = pd.DataFrame(columns=[\"DL Duration (S)\", \"UL Duration (S)\",\n",
        "                                 \"Sessions Total UL (Mb)\", \"Sessions Total (Mb)\",\n",
        "                                 \"Sessions Total DL (Mb)\"])\n",
        "\n",
        "new_data[\"DL Duration (S)\"] = data_pruned[\"DL Duration\"]/1000\n",
        "new_data[\"UL Duration (S)\"] = data_pruned[\"UL Duration\"]/1000\n",
        "new_data[\"Sessions Total UL (Mb)\"] = data_pruned[\"Sessions Total UL\"]/1000000\n",
        "new_data[\"Sessions Total (Mb)\"] = data_pruned[\"Sessions Total\"]/1000000\n",
        "new_data[\"Sessions Total DL (Mb)\"] = data_pruned[\"Sessions Total DL\"]/1000000"
      ],
      "metadata": {
        "id": "QANgbknCxi1f"
      },
      "execution_count": 17,
      "outputs": []
    },
    {
      "cell_type": "code",
      "source": [
        "new_data = normalizer(new_data)"
      ],
      "metadata": {
        "id": "3kdoXvXi0-Oh"
      },
      "execution_count": 18,
      "outputs": []
    },
    {
      "cell_type": "code",
      "source": [
        "from sklearn.cluster import KMeans\n",
        "k = 3\n",
        "kmeans = KMeans(n_clusters=k, random_state=42)\n",
        "y_pred = kmeans.fit_predict(new_data)\n",
        "\n",
        "\n"
      ],
      "metadata": {
        "id": "3RGwf4AP1Sq2"
      },
      "execution_count": 19,
      "outputs": []
    },
    {
      "cell_type": "code",
      "source": [
        "engament_centroids = pd.DataFrame(kmeans.cluster_centers_)"
      ],
      "metadata": {
        "id": "y0iu-eWiw1FI"
      },
      "execution_count": 20,
      "outputs": []
    },
    {
      "cell_type": "code",
      "source": [
        "engament_centroids.to_csv(\"engagment_centroids.csv\", index=False)"
      ],
      "metadata": {
        "id": "cCK-FHRDxVI1"
      },
      "execution_count": 21,
      "outputs": []
    },
    {
      "cell_type": "code",
      "source": [
        "normalized_data = pd.DataFrame(new_data)"
      ],
      "metadata": {
        "id": "u0X0Du4IxvSb"
      },
      "execution_count": 22,
      "outputs": []
    },
    {
      "cell_type": "code",
      "source": [
        "normalized_data.to_csv(\"engagment_data.csv\", index=False)"
      ],
      "metadata": {
        "id": "G_6Q5fLIyCej"
      },
      "execution_count": 23,
      "outputs": []
    },
    {
      "cell_type": "markdown",
      "source": [
        "##### Using elbow method to find optimized K"
      ],
      "metadata": {
        "id": "5sjmZIqBFn1_"
      }
    },
    {
      "cell_type": "code",
      "source": [
        "from yellowbrick.cluster import KElbowVisualizer\n",
        "model = KMeans()\n",
        "\n",
        "visualizer = KElbowVisualizer(model, k=(2,12))\n",
        "\n",
        "visualizer.fit(new_data)        # Fit the data to the visualizer\n",
        "visualizer.show()               # Finalize and render the figure"
      ],
      "metadata": {
        "id": "TX5G0Tk0FuKe",
        "colab": {
          "base_uri": "https://localhost:8080/",
          "height": 394
        },
        "outputId": "86e9007d-b222-42e4-d8de-0ddb55a0d6de"
      },
      "execution_count": 25,
      "outputs": [
        {
          "output_type": "display_data",
          "data": {
            "text/plain": [
              "<Figure size 576x396 with 2 Axes>"
            ],
            "image/png": "[encoded data removed]"
          },
          "metadata": {}
        },
        {
          "output_type": "execute_result",
          "data": {
            "text/plain": [
              "<matplotlib.axes._subplots.AxesSubplot at 0x7f61f2820490>"
            ]
          },
          "metadata": {},
          "execution_count": 25
        }
      ]
    },
    {
      "cell_type": "code",
      "source": [
        "# Elbow is found at k=5"
      ],
      "metadata": {
        "id": "_yI7R7GVGIhu"
      },
      "execution_count": 26,
      "outputs": []
    },
    {
      "cell_type": "markdown",
      "source": [
        "##### Compute min, max, average and total\n"
      ],
      "metadata": {
        "id": "kPnBgGJR5ZU1"
      }
    },
    {
      "cell_type": "code",
      "source": [
        "data_pruned[\"Kth Group\"] = y_pred"
      ],
      "metadata": {
        "id": "2IrGRIX0yuH9"
      },
      "execution_count": 27,
      "outputs": []
    },
    {
      "cell_type": "code",
      "source": [
        "asds = data_pruned.groupby(\"Kth Group\")"
      ],
      "metadata": {
        "id": "u2JJe0Tm2QJq"
      },
      "execution_count": 28,
      "outputs": []
    },
    {
      "cell_type": "code",
      "source": [
        "data_sorted = data_pruned.sort_values(by=[\"Kth Group\"])"
      ],
      "metadata": {
        "id": "UhhaGcTP1463"
      },
      "execution_count": 29,
      "outputs": []
    },
    {
      "cell_type": "code",
      "source": [
        "kth_0 = data_sorted[data_sorted[\"Kth Group\"] == 0]\n",
        "kth_1 = data_sorted[data_sorted[\"Kth Group\"] == 1]\n",
        "kth_2 = data_sorted[data_sorted[\"Kth Group\"] == 2]"
      ],
      "metadata": {
        "id": "T2KsOyvU1G_H"
      },
      "execution_count": 30,
      "outputs": []
    },
    {
      "cell_type": "code",
      "source": [
        "# K=0 Max, Min, Average, total\n",
        "k_0_max = kth_0.max()\n",
        "k_0_min = kth_0.min()\n",
        "k_0_average = kth_0.mean()\n",
        "k_0_total = kth_0.sum()\n",
        "\n",
        "# K=1 Max, Min, Average, total\n",
        "k_1_max = kth_1.max()\n",
        "k_1_min = kth_1.min()\n",
        "k_1_average = kth_1.mean()\n",
        "k_1_total = kth_1.sum()\n",
        "\n",
        "# K=2 Max, Min, Average, total\n",
        "k_2_max = kth_2.max()\n",
        "k_2_min = kth_2.min()\n",
        "k_2_average = kth_2.mean()\n",
        "k_2_total = kth_2.sum()"
      ],
      "metadata": {
        "id": "pikav_YW4WXj"
      },
      "execution_count": 31,
      "outputs": []
    },
    {
      "cell_type": "code",
      "source": [],
      "metadata": {
        "id": "2o0dSpUrUAfi"
      },
      "execution_count": null,
      "outputs": []
    },
    {
      "cell_type": "code",
      "source": [
        "cluster0_mi_max = pd.DataFrame([k_0_max, k_0_min, k_0_average, k_0_total])\n",
        "cluster1_mi_max = pd.DataFrame([k_1_max, k_1_min, k_1_average, k_1_total])\n",
        "cluster2_mi_max = pd.DataFrame([k_2_max, k_2_min, k_2_average, k_2_total])"
      ],
      "metadata": {
        "id": "0Nr7Ek55Tt5b"
      },
      "execution_count": 41,
      "outputs": []
    },
    {
      "cell_type": "code",
      "source": [
        "clusters = pd.concat([cluster0_mi_max, cluster1_mi_max])"
      ],
      "metadata": {
        "id": "ki8V2pYeUUw1"
      },
      "execution_count": 42,
      "outputs": []
    },
    {
      "cell_type": "code",
      "source": [
        "clusters = pd.concat([clusters, cluster2_mi_max])"
      ],
      "metadata": {
        "id": "Vw2s8MSPVm5L"
      },
      "execution_count": 43,
      "outputs": []
    },
    {
      "cell_type": "code",
      "source": [
        "clusters.to_csv(\"clusters.csv\", index=False)"
      ],
      "metadata": {
        "id": "WT_odnEaVsOf"
      },
      "execution_count": 45,
      "outputs": []
    },
    {
      "cell_type": "code",
      "source": [
        "clusters[:4]"
      ],
      "metadata": {
        "colab": {
          "base_uri": "https://localhost:8080/",
          "height": 175
        },
        "id": "4PTOdXWaTBat",
        "outputId": "62ed5edd-cc8e-4045-f642-f369d246d8a5"
      },
      "execution_count": 47,
      "outputs": [
        {
          "output_type": "execute_result",
          "data": {
            "text/plain": [
              "      Frequency   DL Duration   UL Duration  Sessions Total UL  \\\n",
              "0      3.000000  9.528401e+07  9.191319e+07       1.423536e+08   \n",
              "1      0.000000  0.000000e+00  0.000000e+00       2.866892e+06   \n",
              "2      1.048485  1.379503e+06  1.085813e+06       4.249373e+07   \n",
              "3  62561.000000  8.231217e+10  6.478829e+10       2.535516e+12   \n",
              "\n",
              "   Sessions Total  Sessions Total DL  Kth Group  \n",
              "0    7.492925e+08       7.401162e+08        0.0  \n",
              "1    3.324901e+07       8.827082e+06        0.0  \n",
              "2    3.859128e+08       3.434191e+08        0.0  \n",
              "3    2.302665e+13       2.049113e+13        0.0  "
            ],
            "text/html": [
              "\n",
              "  <div id=\"df-bd34b96a-5169-4eb7-84f3-7a5637d1c893\">\n",
              "    <div class=\"colab-df-container\">\n",
              "      <div>\n",
              "<style scoped>\n",
              "    .dataframe tbody tr th:only-of-type {\n",
              "        vertical-align: middle;\n",
              "    }\n",
              "\n",
              "    .dataframe tbody tr th {\n",
              "        vertical-align: top;\n",
              "    }\n",
              "\n",
              "    .dataframe thead th {\n",
              "        text-align: right;\n",
              "    }\n",
              "</style>\n",
              "<table border=\"1\" class=\"dataframe\">\n",
              "  <thead>\n",
              "    <tr style=\"text-align: right;\">\n",
              "      <th></th>\n",
              "      <th>Frequency</th>\n",
              "      <th>DL Duration</th>\n",
              "      <th>UL Duration</th>\n",
              "      <th>Sessions Total UL</th>\n",
              "      <th>Sessions Total</th>\n",
              "      <th>Sessions Total DL</th>\n",
              "      <th>Kth Group</th>\n",
              "    </tr>\n",
              "  </thead>\n",
              "  <tbody>\n",
              "    <tr>\n",
              "      <th>0</th>\n",
              "      <td>3.000000</td>\n",
              "      <td>9.528401e+07</td>\n",
              "      <td>9.191319e+07</td>\n",
              "      <td>1.423536e+08</td>\n",
              "      <td>7.492925e+08</td>\n",
              "      <td>7.401162e+08</td>\n",
              "      <td>0.0</td>\n",
              "    </tr>\n",
              "    <tr>\n",
              "      <th>1</th>\n",
              "      <td>0.000000</td>\n",
              "      <td>0.000000e+00</td>\n",
              "      <td>0.000000e+00</td>\n",
              "      <td>2.866892e+06</td>\n",
              "      <td>3.324901e+07</td>\n",
              "      <td>8.827082e+06</td>\n",
              "      <td>0.0</td>\n",
              "    </tr>\n",
              "    <tr>\n",
              "      <th>2</th>\n",
              "      <td>1.048485</td>\n",
              "      <td>1.379503e+06</td>\n",
              "      <td>1.085813e+06</td>\n",
              "      <td>4.249373e+07</td>\n",
              "      <td>3.859128e+08</td>\n",
              "      <td>3.434191e+08</td>\n",
              "      <td>0.0</td>\n",
              "    </tr>\n",
              "    <tr>\n",
              "      <th>3</th>\n",
              "      <td>62561.000000</td>\n",
              "      <td>8.231217e+10</td>\n",
              "      <td>6.478829e+10</td>\n",
              "      <td>2.535516e+12</td>\n",
              "      <td>2.302665e+13</td>\n",
              "      <td>2.049113e+13</td>\n",
              "      <td>0.0</td>\n",
              "    </tr>\n",
              "  </tbody>\n",
              "</table>\n",
              "</div>\n",
              "      <button class=\"colab-df-convert\" onclick=\"convertToInteractive('df-bd34b96a-5169-4eb7-84f3-7a5637d1c893')\"\n",
              "              title=\"Convert this dataframe to an interactive table.\"\n",
              "              style=\"display:none;\">\n",
              "        \n",
              "  <svg xmlns=\"http://www.w3.org/2000/svg\" height=\"24px\"viewBox=\"0 0 24 24\"\n",
              "       width=\"24px\">\n",
              "    <path d=\"M0 0h24v24H0V0z\" fill=\"none\"/>\n",
              "    <path d=\"M18.56 5.44l.94 2.06.94-2.06 2.06-.94-2.06-.94-.94-2.06-.94 2.06-2.06.94zm-11 1L8.5 8.5l.94-2.06 2.06-.94-2.06-.94L8.5 2.5l-.94 2.06-2.06.94zm10 10l.94 2.06.94-2.06 2.06-.94-2.06-.94-.94-2.06-.94 2.06-2.06.94z\"/><path d=\"M17.41 7.96l-1.37-1.37c-.4-.4-.92-.59-1.43-.59-.52 0-1.04.2-1.43.59L10.3 9.45l-7.72 7.72c-.78.78-.78 2.05 0 2.83L4 21.41c.39.39.9.59 1.41.59.51 0 1.02-.2 1.41-.59l7.78-7.78 2.81-2.81c.8-.78.8-2.07 0-2.86zM5.41 20L4 18.59l7.72-7.72 1.47 1.35L5.41 20z\"/>\n",
              "  </svg>\n",
              "      </button>\n",
              "      \n",
              "  <style>\n",
              "    .colab-df-container {\n",
              "      display:flex;\n",
              "      flex-wrap:wrap;\n",
              "      gap: 12px;\n",
              "    }\n",
              "\n",
              "    .colab-df-convert {\n",
              "      background-color: #E8F0FE;\n",
              "      border: none;\n",
              "      border-radius: 50%;\n",
              "      cursor: pointer;\n",
              "      display: none;\n",
              "      fill: #1967D2;\n",
              "      height: 32px;\n",
              "      padding: 0 0 0 0;\n",
              "      width: 32px;\n",
              "    }\n",
              "\n",
              "    .colab-df-convert:hover {\n",
              "      background-color: #E2EBFA;\n",
              "      box-shadow: 0px 1px 2px rgba(60, 64, 67, 0.3), 0px 1px 3px 1px rgba(60, 64, 67, 0.15);\n",
              "      fill: #174EA6;\n",
              "    }\n",
              "\n",
              "    [theme=dark] .colab-df-convert {\n",
              "      background-color: #3B4455;\n",
              "      fill: #D2E3FC;\n",
              "    }\n",
              "\n",
              "    [theme=dark] .colab-df-convert:hover {\n",
              "      background-color: #434B5C;\n",
              "      box-shadow: 0px 1px 3px 1px rgba(0, 0, 0, 0.15);\n",
              "      filter: drop-shadow(0px 1px 2px rgba(0, 0, 0, 0.3));\n",
              "      fill: #FFFFFF;\n",
              "    }\n",
              "  </style>\n",
              "\n",
              "      <script>\n",
              "        const buttonEl =\n",
              "          document.querySelector('#df-bd34b96a-5169-4eb7-84f3-7a5637d1c893 button.colab-df-convert');\n",
              "        buttonEl.style.display =\n",
              "          google.colab.kernel.accessAllowed ? 'block' : 'none';\n",
              "\n",
              "        async function convertToInteractive(key) {\n",
              "          const element = document.querySelector('#df-bd34b96a-5169-4eb7-84f3-7a5637d1c893');\n",
              "          const dataTable =\n",
              "            await google.colab.kernel.invokeFunction('convertToInteractive',\n",
              "                                                     [key], {});\n",
              "          if (!dataTable) return;\n",
              "\n",
              "          const docLinkHtml = 'Like what you see? Visit the ' +\n",
              "            '<a target=\"_blank\" href=https://colab.research.google.com/notebooks/data_table.ipynb>data table notebook</a>'\n",
              "            + ' to learn more about interactive tables.';\n",
              "          element.innerHTML = '';\n",
              "          dataTable['output_type'] = 'display_data';\n",
              "          await google.colab.output.renderOutput(dataTable, element);\n",
              "          const docLink = document.createElement('div');\n",
              "          docLink.innerHTML = docLinkHtml;\n",
              "          element.appendChild(docLink);\n",
              "        }\n",
              "      </script>\n",
              "    </div>\n",
              "  </div>\n",
              "  "
            ]
          },
          "metadata": {},
          "execution_count": 47
        }
      ]
    },
    {
      "cell_type": "markdown",
      "source": [
        "##### Aggregate user total traffic per application and derive the top 10 most engaged users per application\n"
      ],
      "metadata": {
        "id": "4430HN2U5hN1"
      }
    },
    {
      "cell_type": "code",
      "source": [
        "data_pruned[\"Social Media\"] = raw_data.groupby(\"MSISDN/Number\").agg({\"Social Media DL (Bytes)\": \"sum\"}).reset_index()[\"Social Media DL (Bytes)\"]+ raw_data.groupby(\"MSISDN/Number\").agg({\"Social Media UL (Bytes)\": \"sum\"}).reset_index()[\"Social Media UL (Bytes)\"]\n",
        "data_pruned[\"Google\"] = raw_data.groupby(\"MSISDN/Number\").agg({\"Google DL (Bytes)\": \"sum\"}).reset_index()[\"Google DL (Bytes)\"]+ raw_data.groupby(\"MSISDN/Number\").agg({\"Google UL (Bytes)\": \"sum\"}).reset_index()[\"Google UL (Bytes)\"]\n",
        "data_pruned[\"Youtube\"] = raw_data.groupby(\"MSISDN/Number\").agg({\"Youtube DL (Bytes)\": \"sum\"}).reset_index()[\"Youtube DL (Bytes)\"]+ raw_data.groupby(\"MSISDN/Number\").agg({\"Youtube UL (Bytes)\": \"sum\"}).reset_index()[\"Youtube UL (Bytes)\"]\n",
        "data_pruned[\"Email\"] = raw_data.groupby(\"MSISDN/Number\").agg({\"Email DL (Bytes)\": \"sum\"}).reset_index()[\"Email DL (Bytes)\"]+ raw_data.groupby(\"MSISDN/Number\").agg({\"Email UL (Bytes)\": \"sum\"}).reset_index()[\"Email UL (Bytes)\"]\n",
        "data_pruned[\"Netflix\"] = raw_data.groupby(\"MSISDN/Number\").agg({\"Netflix DL (Bytes)\": \"sum\"}).reset_index()[\"Netflix DL (Bytes)\"]+ raw_data.groupby(\"MSISDN/Number\").agg({\"Netflix UL (Bytes)\": \"sum\"}).reset_index()[\"Netflix UL (Bytes)\"]\n",
        "data_pruned[\"Gaming\"] = raw_data.groupby(\"MSISDN/Number\").agg({\"Gaming DL (Bytes)\": \"sum\"}).reset_index()[\"Gaming DL (Bytes)\"]+ raw_data.groupby(\"MSISDN/Number\").agg({\"Gaming UL (Bytes)\": \"sum\"}).reset_index()[\"Gaming UL (Bytes)\"]\n",
        "data_pruned[\"Other\"] = raw_data.groupby(\"MSISDN/Number\").agg({\"Other DL (Bytes)\": \"sum\"}).reset_index()[\"Other DL (Bytes)\"]+ raw_data.groupby(\"MSISDN/Number\").agg({\"Other UL (Bytes)\": \"sum\"}).reset_index()[\"Other UL (Bytes)\"]"
      ],
      "metadata": {
        "id": "Qfk9IX9T58dU"
      },
      "execution_count": 48,
      "outputs": []
    },
    {
      "cell_type": "code",
      "source": [
        "data_pruned[\"MSISDN/Number\"] = msisdn_value"
      ],
      "metadata": {
        "id": "bodPEH2Q-fBT"
      },
      "execution_count": 49,
      "outputs": []
    },
    {
      "cell_type": "code",
      "source": [
        "ten_most_social = data_pruned.nlargest(n=10, columns=[\"Social Media\"])[\"MSISDN/Number\"]\n",
        "ten_most_google = data_pruned.nlargest(n=10, columns=[\"Google\"])[\"MSISDN/Number\"]\n",
        "ten_most_youtube = data_pruned.nlargest(n=10, columns=[\"Youtube\"])[\"MSISDN/Number\"]\n",
        "ten_most_email = data_pruned.nlargest(n=10, columns=[\"Email\"])[\"MSISDN/Number\"]\n",
        "ten_most_netflix = data_pruned.nlargest(n=10, columns=[\"Netflix\"])[\"MSISDN/Number\"]\n",
        "ten_most_gaming = data_pruned.nlargest(n=10, columns=[\"Gaming\"])[\"MSISDN/Number\"]\n",
        "ten_most_other = data_pruned.nlargest(n=10, columns=[\"Other\"])[\"MSISDN/Number\"]"
      ],
      "metadata": {
        "id": "LAU44eUB68hF"
      },
      "execution_count": 50,
      "outputs": []
    },
    {
      "cell_type": "code",
      "source": [
        "ten_most = pd.DataFrame(columns=[\"Social\", \"Google\", \"Youtube\", \"Email\", \"Netflix\", \"Gaming\", \"Other\"])"
      ],
      "metadata": {
        "id": "1Edp_L6GXdWq"
      },
      "execution_count": 57,
      "outputs": []
    },
    {
      "cell_type": "code",
      "source": [
        "ten_most[\"Social\"] = ten_most_social\n",
        "ten_most[\"Google\"] = ten_most_google\n",
        "ten_most[\"Youtube\"] = ten_most_youtube\n",
        "ten_most[\"Email\"] = ten_most_email\n",
        "ten_most[\"Netflix\"] = ten_most_netflix\n",
        "ten_most[\"Gaming\"] = ten_most_gaming\n",
        "ten_most[\"Other\"] = ten_most_other"
      ],
      "metadata": {
        "id": "MDeEiROaX5zV"
      },
      "execution_count": 58,
      "outputs": []
    },
    {
      "cell_type": "code",
      "source": [
        "ten_most.to_csv(\"ten_most.csv\", index=False)"
      ],
      "metadata": {
        "id": "-QnyU0ToYbY3"
      },
      "execution_count": 59,
      "outputs": []
    },
    {
      "cell_type": "markdown",
      "source": [
        "##### Plot the top 3 most used applications using appropriate charts. "
      ],
      "metadata": {
        "id": "u3BzG9te_mmm"
      }
    },
    {
      "cell_type": "code",
      "source": [
        "# indexing sm, goog, yt, em, nf, gam, oth\n",
        "application_uses = [(\"Social Media\",data_pruned[\"Social Media\"].sum()), (\"Google\", data_pruned[\"Google\"].sum()),\n",
        "                    (\"Youtube\",data_pruned[\"Youtube\"].sum()), (\"Email\",data_pruned[\"Email\"].sum()),\n",
        "                    (\"Netflix\",data_pruned[\"Netflix\"].sum()), (\"Gaming\", data_pruned[\"Gaming\"].sum()),\n",
        "                    (\"Other\",data_pruned[\"Other\"].sum())]"
      ],
      "metadata": {
        "id": "ayFi7wdb_rTR"
      },
      "execution_count": 51,
      "outputs": []
    },
    {
      "cell_type": "code",
      "source": [
        "application_uses.sort(key=lambda y: y[1], reverse=True)"
      ],
      "metadata": {
        "id": "DHVgTH4jBe79"
      },
      "execution_count": 52,
      "outputs": []
    },
    {
      "cell_type": "code",
      "source": [
        "top_three = application_uses[:3]"
      ],
      "metadata": {
        "id": "wSc7Q3fuCRXz"
      },
      "execution_count": 53,
      "outputs": []
    },
    {
      "cell_type": "code",
      "source": [
        "destructured = list(zip(*top_three))\n",
        "labels = list(destructured[0])\n",
        "sizes = list(destructured[1])"
      ],
      "metadata": {
        "id": "Gk_Aa5FXCZjV"
      },
      "execution_count": 54,
      "outputs": []
    },
    {
      "cell_type": "code",
      "source": [
        "fig1, ax1 = plt.subplots(figsize=(7,7))\n",
        "ax1.pie(sizes, labels=labels, autopct='%1.1f%%', startangle=90)\n",
        "ax1.axis('equal')\n",
        "plt.show()"
      ],
      "metadata": {
        "id": "TkX3pGfPD3hv",
        "colab": {
          "base_uri": "https://localhost:8080/",
          "height": 419
        },
        "outputId": "5c37cca3-af4d-4861-cab5-375b854ec185"
      },
      "execution_count": 55,
      "outputs": [
        {
          "output_type": "display_data",
          "data": {
            "text/plain": [
              "<Figure size 504x504 with 1 Axes>"
            ],
            "image/png": "[encoded data removed]"
          },
          "metadata": {}
        }
      ]
    }
  ]
}